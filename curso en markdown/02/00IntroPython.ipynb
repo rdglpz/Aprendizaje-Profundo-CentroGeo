{
 "cells": [
  {
   "cell_type": "markdown",
   "id": "7af5c254-0437-461b-9479-f6865a00fa13",
   "metadata": {},
   "source": [
    "# 2. Python para Cómputo Científico.\n",
    "Introducción a Python\n",
    "\n",
    "* Python es un lenguaje fácil de aprender ampliamente utilizado. \n",
    "* Es claro para leer y escribir.\n",
    "* Es un lenguaje de plataforma cruzada. Aunque es posible crear aplicaciones específicas para una plataforma, en general las librerías son transparentes. \n",
    "* Es interpretado por lo que no se requiere compilar. \n",
    "\n",
    "\n"
   ]
  },
  {
   "cell_type": "markdown",
   "id": "0366a9bd-f02e-4dd3-b5b6-165a6ae68715",
   "metadata": {},
   "source": [
    "## Introducción rápida a la programación procedural: Los 8 componentes de Python.\n",
    "\n",
    "* Python se puede escribir en cualquier editor texto plano.  \n",
    "* Puede ser escrito en ASCII o **UTF-8** (unicode transformation format 8 bit).  \n",
    "\n",
    "Unicode es un estándar de codificación de caracteres diseñado para facilitar el tratamiento informático, transmisión y visualización de textos de numerosos idiomas y disciplinas técnicas, además de textos clásicos de lenguas muertas. El término Unicode proviene de los tres objetivos perseguidos: universalidad, uniformidad y unicidad.\n",
    "\n"
   ]
  },
  {
   "cell_type": "markdown",
   "id": "65c42025-af00-4e33-8954-d652525e5c9e",
   "metadata": {},
   "source": [
    "**1. Tipos de Datos**\n",
    "\n",
    "Python soporta la represenatación de varios tipos de datos de manera nativa.  Estos son inmutables: el tipo de dato no se puede cambiar una vez asignado.\n",
    "\n",
    "Ejemplo de algunos tipos de datos.\n"
   ]
  },
  {
   "cell_type": "markdown",
   "id": "bf623f20-2f0f-4493-a9d5-aba43f7e56fa",
   "metadata": {},
   "source": [
    "**Entero (int)**\n",
    "\n",
    "El número mas grande que puede manejar python está limitado por la memoria."
   ]
  },
  {
   "cell_type": "code",
   "execution_count": 268,
   "id": "da6c36e5-b8d5-47ed-aa82-3d984b83d488",
   "metadata": {},
   "outputs": [
    {
     "data": {
      "text/plain": [
       "6454"
      ]
     },
     "execution_count": 268,
     "metadata": {},
     "output_type": "execute_result"
    }
   ],
   "source": [
    "6454"
   ]
  },
  {
   "cell_type": "markdown",
   "id": "ef8b090b-e10c-4cba-93f1-eb773cfdb79f",
   "metadata": {},
   "source": [
    "**String (str)**\n",
    "\n",
    "Son delimitadas por comillas simples o dobles, siempre y cuando coincidan en la apertura y cierre. Ejemplo"
   ]
  },
  {
   "cell_type": "code",
   "execution_count": 269,
   "id": "c681da73-e6b0-4254-83fe-cc445d0fd028",
   "metadata": {},
   "outputs": [
    {
     "data": {
      "text/plain": [
       "'hola como están'"
      ]
     },
     "execution_count": 269,
     "metadata": {},
     "output_type": "execute_result"
    }
   ],
   "source": [
    "\"hola como están\""
   ]
  },
  {
   "cell_type": "code",
   "execution_count": 270,
   "id": "c14bbcc5-eb01-4c8e-961a-2402a4f51868",
   "metadata": {},
   "outputs": [
    {
     "data": {
      "text/plain": [
       "'hola como están'"
      ]
     },
     "execution_count": 270,
     "metadata": {},
     "output_type": "execute_result"
    }
   ],
   "source": [
    "'hola como están'"
   ]
  },
  {
   "cell_type": "code",
   "execution_count": 329,
   "id": "555ef48f-6255-4331-b853-a33df6144e21",
   "metadata": {},
   "outputs": [
    {
     "data": {
      "text/plain": [
       "str"
      ]
     },
     "execution_count": 329,
     "metadata": {},
     "output_type": "execute_result"
    }
   ],
   "source": [
    "type('hola como están')"
   ]
  },
  {
   "cell_type": "markdown",
   "id": "751a2c12-5fbe-487d-b0e0-2993a3f86863",
   "metadata": {},
   "source": [
    "Python utiliza \"[ ]\" para acceder a un elemento de una secuencia de un dato tipo string, pero no para asignar un caracter. La razón es porque las variables **primitivas** son **inmutables**"
   ]
  },
  {
   "cell_type": "code",
   "execution_count": 2,
   "id": "29267a08-8e9d-46ae-bfbb-14b5e8be38f2",
   "metadata": {},
   "outputs": [
    {
     "data": {
      "text/plain": [
       "'h'"
      ]
     },
     "execution_count": 2,
     "metadata": {},
     "output_type": "execute_result"
    }
   ],
   "source": [
    "\"Python es divertido\"[3] = "
   ]
  },
  {
   "cell_type": "markdown",
   "id": "a5034ba5-968d-4466-8d72-9b45e43bba3f",
   "metadata": {},
   "source": [
    "Probando inmutabilidad, el intérprete marca un error de tipo."
   ]
  },
  {
   "cell_type": "code",
   "execution_count": 3,
   "id": "3a76ea73-9ec4-470d-a9fc-ea144d2d13d4",
   "metadata": {},
   "outputs": [
    {
     "ename": "TypeError",
     "evalue": "'str' object does not support item assignment",
     "output_type": "error",
     "traceback": [
      "\u001b[0;31m---------------------------------------------------------------------------\u001b[0m",
      "\u001b[0;31mTypeError\u001b[0m                                 Traceback (most recent call last)",
      "Input \u001b[0;32mIn [3]\u001b[0m, in \u001b[0;36m<cell line: 1>\u001b[0;34m()\u001b[0m\n\u001b[0;32m----> 1\u001b[0m \u001b[38;5;124m\"\u001b[39m\u001b[38;5;124mPython es divertido\u001b[39m\u001b[38;5;124m\"\u001b[39m[\u001b[38;5;241m0\u001b[39m] \u001b[38;5;241m=\u001b[39m \u001b[38;5;124m\"\u001b[39m\u001b[38;5;124mC\u001b[39m\u001b[38;5;124m\"\u001b[39m\n",
      "\u001b[0;31mTypeError\u001b[0m: 'str' object does not support item assignment"
     ]
    }
   ],
   "source": [
    "\n",
    "\"Python es divertido\"[0] = \"C\""
   ]
  },
  {
   "cell_type": "markdown",
   "id": "014a9827-cdb6-40cc-9be0-fa6af3f4f118",
   "metadata": {},
   "source": [
    "**Para convertir un tipo de dato a otro se utiliza la sintaxis**\n",
    "\n",
    "```\n",
    "datatype(item)\n",
    "```\n",
    "\n",
    "Ejemplo:"
   ]
  },
  {
   "cell_type": "code",
   "execution_count": 5,
   "id": "f036f52d-c9ca-4ff6-9840-ab15106b8e67",
   "metadata": {},
   "outputs": [
    {
     "data": {
      "text/plain": [
       "66"
      ]
     },
     "execution_count": 5,
     "metadata": {},
     "output_type": "execute_result"
    }
   ],
   "source": [
    "int(\"56\")"
   ]
  },
  {
   "cell_type": "code",
   "execution_count": 7,
   "id": "a7fc1bf8-9998-40b6-93ae-d5d6883fda51",
   "metadata": {},
   "outputs": [
    {
     "data": {
      "text/plain": [
       "'56'"
      ]
     },
     "execution_count": 7,
     "metadata": {},
     "output_type": "execute_result"
    }
   ],
   "source": [
    "str(56)"
   ]
  },
  {
   "cell_type": "code",
   "execution_count": 11,
   "id": "8c4a9c8f-9697-4619-8f82-864161adc6d4",
   "metadata": {},
   "outputs": [
    {
     "data": {
      "text/plain": [
       "7"
      ]
     },
     "execution_count": 11,
     "metadata": {},
     "output_type": "execute_result"
    }
   ],
   "source": [
    "t = 6\n",
    "t = 7\n",
    "t"
   ]
  },
  {
   "cell_type": "markdown",
   "id": "7047e5ce-cf8f-4e78-824a-25c07155140c",
   "metadata": {},
   "source": [
    "**2. Referencias a Objetos**\n",
    "\n",
    "Una vez que tenemos identificadas los tipos de datos, el siguiente paso es guardarlos.\n",
    "\n",
    "Python guarda los valores en **referencias a objetos** no en variables. (En la práctica eso no se distingue la diferencia, por lo que se usará el nombre de variable).  \n",
    "\n",
    "Gracias a esto no es necesario pre-declarar estas referencias a objetos antes ni especificar el valor de su tipo.  \n",
    "\n",
    "El operador '=', relaciona una referencia de objeto a un objeto en la memoria.\n",
    "\n",
    "Los nombres para referencia a objetos se llaman **identificadores**, y deben comenzar con una letra o guión bajo sin espacios.\n",
    "\n",
    "Ejemplo:"
   ]
  },
  {
   "cell_type": "code",
   "execution_count": 15,
   "id": "f1834de7-1757-42f3-9aee-ee095d2f2fbc",
   "metadata": {},
   "outputs": [
    {
     "data": {
      "text/plain": [
       "'gato'"
      ]
     },
     "execution_count": 15,
     "metadata": {},
     "output_type": "execute_result"
    }
   ],
   "source": [
    "x = \"gato\"\n",
    "y = \"perro\"\n",
    "z = x\n",
    "\n",
    "#1. Genera una referencia a objeto llamado \"x\"\n",
    "#2. Python genera un objeto \"str\" llamado \"Gato\"\n"
   ]
  },
  {
   "cell_type": "markdown",
   "id": "55b41dfc-eed7-4966-b8aa-9074d0eb4836",
   "metadata": {},
   "source": [
    "Una variable puede reasignar a un objeto de diferente tipo. Esto se llama **Tipeo dinámico (Dynamics typing)**\n",
    "\n",
    "Para conocer el tipo de dato de la referencia a objeto "
   ]
  },
  {
   "cell_type": "code",
   "execution_count": 16,
   "id": "4ed971f7-5ec3-49ce-8037-4bdb2b6d078a",
   "metadata": {},
   "outputs": [],
   "source": [
    "pais = 4"
   ]
  },
  {
   "cell_type": "code",
   "execution_count": 17,
   "id": "472e23ce-39bd-4d3a-acc4-8457894c3cde",
   "metadata": {},
   "outputs": [
    {
     "name": "stdout",
     "output_type": "stream",
     "text": [
      "4 <class 'int'>\n"
     ]
    }
   ],
   "source": [
    "print(pais,type(pais))"
   ]
  },
  {
   "cell_type": "markdown",
   "id": "6ef9e882-c228-4ce8-ab92-4b25a496f73b",
   "metadata": {},
   "source": [
    "**3. colección de tipos de datos**\n",
    "\n",
    "Python puede manejar diferentes tipos de coleción de datos, como arreglos asociativos, conjuntos, tuplas.\n",
    "\n"
   ]
  },
  {
   "cell_type": "markdown",
   "id": "7131aae4-104a-475a-88d2-4282222549ea",
   "metadata": {},
   "source": [
    "**Las tuplas (tuple)**   \n",
    "Son creadas utilizando coma despues de de cada referencia (,).\n",
    "\n",
    "Las tuplas son inmutables.\n",
    "\n",
    "Ejemplo tupla:\n"
   ]
  },
  {
   "cell_type": "code",
   "execution_count": 19,
   "id": "597dd320-dc7e-45d6-9783-3b4ac497ccde",
   "metadata": {},
   "outputs": [
    {
     "data": {
      "text/plain": [
       "('hola', 5, {4: 5, 5: 80})"
      ]
     },
     "execution_count": 19,
     "metadata": {},
     "output_type": "execute_result"
    }
   ],
   "source": [
    "T = (\"hola\",5,{4:5,5:80})\n",
    "T"
   ]
  },
  {
   "cell_type": "markdown",
   "id": "eaf1c65e-d3f5-4eb3-86ef-a066db96ee5c",
   "metadata": {},
   "source": [
    "Referencia al objeto tupla"
   ]
  },
  {
   "cell_type": "code",
   "execution_count": 20,
   "id": "9e13523b-7ee0-4c67-9c68-44cb4e9fb8e6",
   "metadata": {},
   "outputs": [],
   "source": [
    "a = (3,4)\n",
    "a = (\"Noruega\",5,6)"
   ]
  },
  {
   "cell_type": "code",
   "execution_count": null,
   "id": "b825de6a-c456-4503-a093-49f52d61806b",
   "metadata": {},
   "outputs": [],
   "source": []
  },
  {
   "cell_type": "markdown",
   "id": "ac8c0ee9-932d-41a5-a1c6-50f7e5a665f2",
   "metadata": {},
   "source": [
    "**Arreglos (array)**  \n",
    "\n",
    "Ejemplo Arreglo: "
   ]
  },
  {
   "cell_type": "code",
   "execution_count": 25,
   "id": "9c2828ec-2929-4951-b840-5db005637aee",
   "metadata": {},
   "outputs": [
    {
     "name": "stdout",
     "output_type": "stream",
     "text": [
      "Contenido de la posicion 0 del arreglo: Noruega\n",
      "Contenido despues de cambiar la referencia de a[0]: 9\n"
     ]
    }
   ],
   "source": [
    "a = [\"Noruega\",5,6]\n",
    "print(\"Contenido de la posicion 0 del arreglo:\", a[0])\n",
    "\n",
    "a[0] = 9\n",
    "print(\"Contenido despues de cambiar la referencia de a[0]:\", a[0])"
   ]
  },
  {
   "cell_type": "markdown",
   "id": "e470fc70-9f8c-4fbb-8ca8-4ad2ff3e83c6",
   "metadata": {},
   "source": [
    "Como Python es un leguaje procedural, se llaman funciones las cuales reciben datos de diversos tipos como argumentos.\n",
    "\n",
    "El punto es un operador para acceder a los atributos de los objetos."
   ]
  },
  {
   "cell_type": "code",
   "execution_count": 28,
   "id": "cb3d9804-c385-4ec6-8d53-6c80455ced55",
   "metadata": {},
   "outputs": [
    {
     "data": {
      "text/plain": [
       "['gato']"
      ]
     },
     "execution_count": 28,
     "metadata": {},
     "output_type": "execute_result"
    }
   ],
   "source": [
    "animales = [\"gato\"]\n",
    "\n"
   ]
  },
  {
   "cell_type": "code",
   "execution_count": 29,
   "id": "f9789219-465d-4164-bf24-db86dabae818",
   "metadata": {},
   "outputs": [
    {
     "name": "stdout",
     "output_type": "stream",
     "text": [
      "['gato', 'ornitorrinco', 56, [9, 5, 6]]\n"
     ]
    },
    {
     "data": {
      "text/plain": [
       "['gato', 'ornitorrinco', 56, [9, 5, 6]]"
      ]
     },
     "execution_count": 29,
     "metadata": {},
     "output_type": "execute_result"
    }
   ],
   "source": [
    "animales.append(\"ornitorrinco\")\n",
    "animales.append(56)\n",
    "animales.append(a)\n",
    "print(animales)\n",
    "\n",
    "\n",
    "animales"
   ]
  },
  {
   "cell_type": "markdown",
   "id": "a9a9e56f-904e-4259-bb7f-4d2adec97ab8",
   "metadata": {},
   "source": [
    "Tuplas, listas y cadenas tienen tamaño de longitud y puede verificarse con \n",
    "\n",
    "```len()```"
   ]
  },
  {
   "cell_type": "code",
   "execution_count": 30,
   "id": "24d463e4-d474-4369-a51c-1698911293b6",
   "metadata": {},
   "outputs": [
    {
     "data": {
      "text/plain": [
       "4"
      ]
     },
     "execution_count": 30,
     "metadata": {},
     "output_type": "execute_result"
    }
   ],
   "source": [
    "len(animales)"
   ]
  },
  {
   "cell_type": "markdown",
   "id": "20d81a3d-9e72-46cf-9db6-c520a4cee51c",
   "metadata": {},
   "source": [
    "**Diccionarios (dict)**\n",
    "\n",
    "Son colecciones de objetos con clave asociada de la forma:\n",
    "\n",
    "```\n",
    "{clave1:valor1,clave2:valor2}\n",
    "```"
   ]
  },
  {
   "cell_type": "code",
   "execution_count": 37,
   "id": "6f78d7fc-4b3a-475d-b559-eea3cb4390c7",
   "metadata": {},
   "outputs": [],
   "source": [
    "dict = {4:40,6:90,'sdf':'rodrigo'}\n",
    "\n",
    "\n"
   ]
  },
  {
   "cell_type": "markdown",
   "id": "91c1c004-3fd5-4bad-ba3b-2d4d3025e506",
   "metadata": {},
   "source": [
    "**4. Operadores Lógicos**\n",
    "\n",
    "Python provee 4 conjuntos de operaciones lógicas.\n",
    "\n",
    "**4.1 Operadores de identidad**\n",
    "\n",
    "```\n",
    "is\n",
    "is not\n",
    "```\n"
   ]
  },
  {
   "cell_type": "code",
   "execution_count": 285,
   "id": "615cd544-2bb9-49d6-8427-afa5258420aa",
   "metadata": {},
   "outputs": [
    {
     "name": "stdout",
     "output_type": "stream",
     "text": [
      "a is b es False porque apuntan a direcciones diferenes\n",
      "a is b es True Porque apuntan a la misma dirección\n"
     ]
    }
   ],
   "source": [
    "#Generamos dos objetos listas identicas y verificamos si tienen la misma referencia\n",
    "\n",
    "#referencia 1\n",
    "a = [\"Ballena\",4]\n",
    "\n",
    "#referencia 2\n",
    "b = [\"Ballena\",4]\n",
    "\n",
    "#compara si la dirección de memoria a la que apunta 'a' es igual a 'b', no los valores en sí.\n",
    "print(\"a is b es \"+str(a is b)+\" porque apuntan a direcciones diferenes\")\n",
    "\n",
    "a = b\n",
    "\n",
    "print(\"a is b es \"+ str(a is b) + \" Porque apuntan a la misma dirección\")"
   ]
  },
  {
   "cell_type": "markdown",
   "id": "685fedfe-5dd3-4006-b6ea-3d0bf2ead553",
   "metadata": {},
   "source": [
    "Un caso de uso de ```is```, es verificar si una variable hace referencia a una dirección de memoria con ```None```"
   ]
  },
  {
   "cell_type": "code",
   "execution_count": 265,
   "id": "bd20cbf8-f41b-4a95-a4fc-1feeb8050543",
   "metadata": {},
   "outputs": [
    {
     "name": "stdout",
     "output_type": "stream",
     "text": [
      "a is not None: True\n",
      "b is not None: False\n",
      "a is b: False\n"
     ]
    }
   ],
   "source": [
    "a = 5\n",
    "b = None\n",
    "print(\"a is not None:\", a is not None)\n",
    "print(\"b is not None:\", b is not None)\n",
    "print(\"a is b:\", a is b)"
   ]
  },
  {
   "cell_type": "code",
   "execution_count": 38,
   "id": "c2b72d6c-7b88-4516-ba82-1c209d3221af",
   "metadata": {},
   "outputs": [
    {
     "data": {
      "text/plain": [
       "True"
      ]
     },
     "execution_count": 38,
     "metadata": {},
     "output_type": "execute_result"
    }
   ],
   "source": [
    "a = \"Pato\"\n",
    "b = \"Pato\"\n",
    "\n",
    "a is b\n",
    "\n",
    "a == b"
   ]
  },
  {
   "cell_type": "markdown",
   "id": "ace2be67-6f23-40a9-bb91-8bb97fb5536e",
   "metadata": {},
   "source": [
    "**4.2 Operadores de Comparación**\n",
    "\n",
    "Python tiene el conjunto estandard de operadores binarios de comparación \n",
    "```\n",
    "<\n",
    "<=\n",
    "==\n",
    ">\n",
    ">=\n",
    "!= \n",
    "\n",
    "\n",
    "```\n"
   ]
  },
  {
   "cell_type": "code",
   "execution_count": 266,
   "id": "2185b4e0-23ab-4c57-ad19-ab73711175e0",
   "metadata": {},
   "outputs": [
    {
     "data": {
      "text/plain": [
       "True"
      ]
     },
     "execution_count": 266,
     "metadata": {},
     "output_type": "execute_result"
    }
   ],
   "source": [
    "#los operadores pueden encadenarse\n",
    "\n",
    "z = 10\n",
    "0 < 10 <20  "
   ]
  },
  {
   "cell_type": "code",
   "execution_count": 267,
   "id": "14ccd2b5-f490-4be4-a238-3f1378a9ccdd",
   "metadata": {},
   "outputs": [
    {
     "data": {
      "text/plain": [
       "True"
      ]
     },
     "execution_count": 267,
     "metadata": {},
     "output_type": "execute_result"
    }
   ],
   "source": []
  },
  {
   "cell_type": "markdown",
   "id": "ee3c6a1f-e6ab-474e-9eb5-8f7dc44f4fb5",
   "metadata": {},
   "source": [
    "En este caso por eficiencia, Python reusa el mismo objeto *string* \"Pato\"\n",
    "\n",
    "Usar operadores. ```==``` y ```!=``` cuando se comparan los valores.\n",
    "y ```is, is not```, cuando se comparan con la referencia ```None``` \n",
    "\n",
    "Python compara sobre el mismo tiempo de datos, si no, arroja una excepción."
   ]
  },
  {
   "cell_type": "markdown",
   "id": "36f3d5bf-07ec-4b06-817b-16a11a9512c0",
   "metadata": {},
   "source": [
    "**4.3 Operador de membresía**\n",
    "\n",
    "\n",
    "```\n",
    "in\n",
    "in not\n",
    "```"
   ]
  },
  {
   "cell_type": "code",
   "execution_count": 145,
   "id": "3ce4f8fd-7d72-42ed-a97d-21337f352a2b",
   "metadata": {},
   "outputs": [
    {
     "name": "stdout",
     "output_type": "stream",
     "text": [
      "True\n",
      "False\n"
     ]
    }
   ],
   "source": [
    "p = (\"lagartija\",\"gallo\",\"perro\")\n",
    "\n",
    "print(\"lagartija\" in p)\n",
    "print(\"gallo\" not in p)"
   ]
  },
  {
   "cell_type": "markdown",
   "id": "1ee012cd-c171-4522-b389-55593dca33d1",
   "metadata": {},
   "source": [
    "**4.4 Operadores Lógicos**\n",
    "\n",
    "```\n",
    "and  \n",
    "or   \n",
    "not\n",
    "```   \n",
    "Estos operadores implementan *lógica de corto circuito*. El valor devuelto es el último que determina la operación.\n"
   ]
  },
  {
   "cell_type": "code",
   "execution_count": 48,
   "id": "d2d7d5ca-ca0b-4b5e-a0c6-9a751bc2ad15",
   "metadata": {},
   "outputs": [
    {
     "name": "stdout",
     "output_type": "stream",
     "text": [
      "2\n"
     ]
    }
   ],
   "source": [
    "z = 0\n",
    "a = 1\n",
    "b = 2\n",
    "c = 3\n",
    "\n",
    "#print(a or b or c)\n",
    "\n",
    "\n",
    "print( (a and b) or (c and b) or (c and b) or (c and b))\n",
    "\n"
   ]
  },
  {
   "cell_type": "markdown",
   "id": "b91a3f20-77ab-48fa-820a-3fe397f23e2c",
   "metadata": {},
   "source": [
    "En el contexto booleano si la salida de la expresión lógica en corto circuito es > 0 entonces es ```True``` , y de lo contrario ```False ```\n",
    "\n",
    "Probar la salida con ```or```"
   ]
  },
  {
   "cell_type": "markdown",
   "id": "5e96e020-c64e-41e1-8855-bd1a0843df15",
   "metadata": {},
   "source": [
    "**5. Control de flujo**\n",
    "\n",
    "Sintaxis general\n",
    "\n",
    "Sentencia ```if``` \n",
    "\n",
    "```\n",
    "if expresión_booleana_1:\n",
    "    bloque de instrucciones 1\n",
    "elif expresión_booleana_2:\n",
    "    bloque de instrucciones 2\n",
    "    .\n",
    "    .\n",
    "    ,\n",
    "elif expresión_booleana_n:\n",
    "    bloque de instrucciones n\n",
    "else:\n",
    "    bloque de instrucciones n+1\n",
    "```\n",
    "\n",
    "Python utiliza identación para definir el inicio y fin de un bloque de instrucciones dentro de una estructura de control de flujo.\n",
    "\n",
    "Sentencia ```while```\n",
    "\n",
    "```\n",
    "while True:\n",
    "    item = get_next_item()\n",
    "    if not item:\n",
    "        break\n",
    "    process_item(item)\n",
    "```\n",
    "\n",
    "Sentencia ```for... in```\n",
    "\n",
    "```for variable in iterable```"
   ]
  },
  {
   "cell_type": "code",
   "execution_count": 50,
   "id": "d4a79cd3-1e7c-45e3-b5f8-2efc6ffcca08",
   "metadata": {},
   "outputs": [
    {
     "name": "stdout",
     "output_type": "stream",
     "text": [
      "perro\n",
      "gallo\n",
      "gato\n",
      "lagartija\n",
      "lechuza\n"
     ]
    }
   ],
   "source": [
    "lista_animales= [\"perro\",\"gallo\", \"gato\", \"lagartija\",\"lechuza\"]\n",
    "for animal in lista_animales:\n",
    "    print(animal)\n",
    "    \n",
    "    \n",
    "\n",
    "\n"
   ]
  },
  {
   "cell_type": "markdown",
   "id": "a987357e-c05e-4c5b-937b-469f9592fcf6",
   "metadata": {},
   "source": [
    "**Manejo Básico de Excepciones**\n",
    "\n",
    "Muchas funciones de Python, indican errores o eventos lanzando una exceptición que produce una salida de texto.\n",
    "\n",
    "```\n",
    "try:\n",
    "    instrucción\n",
    "except instrucción as variable1:\n",
    "   descripción excepcion \n",
    "…\n",
    "except exceptionN as variableN:\n",
    "    exception_suiteN\n",
    "```\n",
    "\n",
    "Is las intrucciones dentro de try se ejecutan sin errores, el bloque except no se ejecuta.\n",
    "\n",
    "Esta estructura soporta opciones mas complejas para manejo de ciertas excepcioens específicas.\n",
    "\n",
    "Ejemplo:"
   ]
  },
  {
   "cell_type": "code",
   "execution_count": 52,
   "id": "20c6fcc1-7ceb-4eb8-aa6c-7c4ac8b5a7c8",
   "metadata": {},
   "outputs": [
    {
     "name": "stdin",
     "output_type": "stream",
     "text": [
      " geo\n"
     ]
    },
    {
     "name": "stdout",
     "output_type": "stream",
     "text": [
      "No puedo convertir a entero \n"
     ]
    }
   ],
   "source": [
    "try:\n",
    "    i = int(input())\n",
    "except ValueError as err:\n",
    "    print(\"No puedo convertir a entero \")\n",
    "    \n",
    "    "
   ]
  },
  {
   "cell_type": "markdown",
   "id": "20e4a573-2dcc-471d-acc2-081a13f91675",
   "metadata": {},
   "source": [
    "**6. Operadores Aritméticos**\n",
    "\n",
    "Python ofrece todos los operadores aritméticos ```+,-,*,/```, operadores binarios y de asignación aumentada."
   ]
  },
  {
   "cell_type": "code",
   "execution_count": 56,
   "id": "56ebf5d7-905b-48ae-8ea0-7c67468cfbba",
   "metadata": {},
   "outputs": [
    {
     "name": "stdout",
     "output_type": "stream",
     "text": [
      "Suma: 10\n",
      "Resta: 2\n",
      "Multiplicación: 15\n",
      "División: 1.6666666666666667\n",
      "División truncada 5//3: 1\n",
      "Modulo 5%3 =  2\n",
      "Potencia: 2^4= 16\n",
      "Asignación aumentada: 9\n",
      "No que los objetos int en python son inmutables?!! Que pasa?\n",
      "+=, también puede operar sobre cadenas.  ['perro', 'gallo', 'gato', 'lagartija', 'lechuza', 'Lechuza', 'Lechuza']\n",
      "\n",
      " +=, también puede operar sobre cadenas.  Rodrigo Lopez\n"
     ]
    }
   ],
   "source": [
    "print(\"Suma:\",5+5)\n",
    "\n",
    "print(\"Resta:\",5-3)\n",
    "\n",
    "print(\"Multiplicación:\",5*3)\n",
    "\n",
    "print(\"División:\",5/3)\n",
    "\n",
    "print(\"División truncada 5//3:\",5//3)\n",
    "\n",
    "print(\"Modulo 5%3 = \",5%3)\n",
    "\n",
    "print(\"Potencia: 2^4=\",2**4)\n",
    "\n",
    "v =  5\n",
    "\n",
    "v+=4\n",
    "\n",
    "\n",
    "\n",
    "\n",
    "print(\"Asignación aumentada:\",v)\n",
    "\n",
    "print(\"No que los objetos int en python son inmutables?!! Que pasa?\")\n",
    "\n",
    "lista_animales+=[\"Lechuza\"]\n",
    "\n",
    "print(\"+=, también puede operar sobre cadenas. \", lista_animales)\n",
    "\n",
    "nombre = \"Rodrigo\"\n",
    "nombre += \" \"\n",
    "nombre += \"Lopez\"\n",
    "\n",
    "print(\"\\n +=, también puede operar sobre cadenas. \", nombre)"
   ]
  },
  {
   "cell_type": "code",
   "execution_count": 57,
   "id": "62c124bd-f55c-44a2-bb75-81f619571161",
   "metadata": {},
   "outputs": [],
   "source": [
    "v = 4\n",
    "v = v+4"
   ]
  },
  {
   "cell_type": "markdown",
   "id": "f108800b-49bb-470d-a6be-0f205af338c1",
   "metadata": {},
   "source": [
    "**7. Entrada y Salida**\n",
    "\n",
    "Para usar una entrada de un usuario se utiliza ```input()```\n"
   ]
  },
  {
   "cell_type": "code",
   "execution_count": 58,
   "id": "878c3cc5-571e-421f-b470-2250c49614b7",
   "metadata": {},
   "outputs": [
    {
     "name": "stdin",
     "output_type": "stream",
     "text": [
      "Introduce un número 50\n",
      "Introduce un número 40\n"
     ]
    },
    {
     "name": "stdout",
     "output_type": "stream",
     "text": [
      "la suma es 90\n"
     ]
    }
   ],
   "source": [
    "a = int(input(\"Introduce un número\"))\n",
    "b = int(input(\"Introduce un número\"))\n",
    "\n",
    "print(\"la suma es\", a+b)"
   ]
  },
  {
   "cell_type": "markdown",
   "id": "f451fc9c-85ad-47e4-98cc-cc95d6226fd2",
   "metadata": {},
   "source": [
    "**8. Creando y llamando funciones**\n",
    "\n",
    "\n",
    "Muchas veces necesitamos utilizar un bloque de código muchas veces y construir software a partir de bloques de instrucciones existentes.\n",
    "\n",
    "Podemos crear funciones para encapsular un conjunto de instrucciones."
   ]
  },
  {
   "cell_type": "code",
   "execution_count": 60,
   "id": "8c7f337d-b79c-40d6-a0f9-25a2337d3d0f",
   "metadata": {},
   "outputs": [],
   "source": [
    "def f(x,n):\n",
    "    return (x**n)"
   ]
  },
  {
   "cell_type": "code",
   "execution_count": 61,
   "id": "e848fffb-c42f-4339-b384-a8172c4fcb74",
   "metadata": {},
   "outputs": [
    {
     "data": {
      "text/plain": [
       "15625"
      ]
     },
     "execution_count": 61,
     "metadata": {},
     "output_type": "execute_result"
    }
   ],
   "source": [
    "f(5,6)"
   ]
  },
  {
   "cell_type": "markdown",
   "id": "1a50ee30-cf10-4e21-b6d5-31d922563a14",
   "metadata": {},
   "source": [
    "Los argumentos son opcionales, y en caso de recibir, se separan con comas.\n",
    "\n",
    "Todas las funciones regresan un valor, cuando no se especifica explicitamente este valor es equivalente a regresar ```None```"
   ]
  },
  {
   "cell_type": "code",
   "execution_count": 213,
   "id": "419c883f-16b8-48b5-974d-0383c8e707bd",
   "metadata": {},
   "outputs": [
    {
     "name": "stdout",
     "output_type": "stream",
     "text": [
      "no regreso valor calculado: 15625\n",
      "None\n"
     ]
    }
   ],
   "source": [
    "def f(x,n):\n",
    "    print(\"No regreso valor calculado:\", x**n)\n",
    "    return None\n",
    "\n",
    "v = f(5,6)\n",
    "print(v)"
   ]
  },
  {
   "cell_type": "markdown",
   "id": "cb36e345-7892-446d-a74e-c96f729f0e8f",
   "metadata": {},
   "source": [
    "cuando ```def``` se ejecuta se crea un objeto funcion, con un objeto referencia con el nombre especificado. \n",
    "\n",
    "Como las funciones son objetos, se guardan como colección de tipo de datos y pasado como argumentos a otras funciones.\n",
    "\n",
    "Esto permite implementar cosas interesantes como esto:"
   ]
  },
  {
   "cell_type": "code",
   "execution_count": 63,
   "id": "e4529d53-664f-4fcf-a275-3c553deca9b3",
   "metadata": {},
   "outputs": [
    {
     "data": {
      "text/plain": [
       "78125"
      ]
     },
     "execution_count": 63,
     "metadata": {},
     "output_type": "execute_result"
    }
   ],
   "source": [
    "def f(x,n):\n",
    "    return (x**n)\n",
    "\n",
    "def g(x,funcion):\n",
    "    \n",
    "    return(x*funcion(5,6)) \n",
    "\n",
    "g(5,f)"
   ]
  },
  {
   "cell_type": "markdown",
   "id": "a9c14487-a3a7-49bc-86f7-28800f58e19d",
   "metadata": {},
   "source": [
    "## Otras característics de Python\n",
    "\n",
    "**Comprensión de listas**\n",
    "\n",
    "Aplica una operación sobre una lista de elementos.\n",
    "\n",
    "La estructura de esta instrucción esta dada por:\n",
    "\n",
    "```\n",
    "[expresion for variable in lista if condicion]\n",
    "```\n",
    "\n",
    "Ejemplos"
   ]
  },
  {
   "cell_type": "code",
   "execution_count": 65,
   "id": "1f493173-d537-47ea-8a49-30f2f4b68c52",
   "metadata": {},
   "outputs": [
    {
     "data": {
      "text/plain": [
       "[0, 2, 4, 6, 8]"
      ]
     },
     "execution_count": 65,
     "metadata": {},
     "output_type": "execute_result"
    }
   ],
   "source": [
    "# devuelve una lista con los números divisibles entre 2 entre el 0 y el 9\n",
    "[x for x in range(10) if x % 2 == 0]"
   ]
  },
  {
   "cell_type": "code",
   "execution_count": 67,
   "id": "75f96540-1ac0-4365-b661-efcc504fb90f",
   "metadata": {},
   "outputs": [
    {
     "data": {
      "text/plain": [
       "[0, 1, 4, 9, 16, 25, 36, 49, 64, 81]"
      ]
     },
     "execution_count": 67,
     "metadata": {},
     "output_type": "execute_result"
    }
   ],
   "source": [
    "\n",
    "# devuelve una lista con los números divisibles entre 2 entre el 0 y el 9 elevados al cuadrado\n",
    "[x ** 2 for x in range(10) if True]"
   ]
  },
  {
   "cell_type": "markdown",
   "id": "999f47d5-4118-44ff-9be5-da0ab9448e4b",
   "metadata": {},
   "source": [
    "**Comprensión de diccionarios**\n",
    "\n",
    "Es similar a la comprensión de listas\n",
    "\n",
    "```\n",
    "{expresion-clave:expresion-valor for variables in lista if condicion}\n",
    "```\n",
    "\n",
    "Ejemplo:\n"
   ]
  },
  {
   "cell_type": "code",
   "execution_count": 72,
   "id": "5583208e-8632-45c1-8dd7-994c236a8316",
   "metadata": {},
   "outputs": [
    {
     "data": {
      "text/plain": [
       "{str: 'Python', int: 6, float: 1.4, complex: (1+5j)}"
      ]
     },
     "execution_count": 72,
     "metadata": {},
     "output_type": "execute_result"
    }
   ],
   "source": [
    "D = {type(palabra):palabra for palabra in ['Python',1,1.4,1+5j]}\n",
    "\n",
    "D[int] = 6\n",
    "\n",
    "D"
   ]
  },
  {
   "cell_type": "markdown",
   "id": "0fde6be2-d64d-43d3-9fe4-f0e7ae133a1a",
   "metadata": {},
   "source": [
    "(Qué pasa si queremos agregar otro entero al diccionario?)"
   ]
  },
  {
   "cell_type": "markdown",
   "id": "94704130-5bd6-4bb2-b22e-ec8a9ecc6bf1",
   "metadata": {},
   "source": [
    "**Modulos**\n",
    "\n",
    "Son archivos con codigo fuente Python con extensión .py. Pueden contener funciones , clases, variables.\n",
    "\n",
    "Para  importar un modulo completo se escribe:\n",
    "\n",
    "```import modulo```\n",
    "\n",
    "El cual ejecuta ```modulo```\n",
    "\n",
    "```import modulo as m```\n",
    "\n",
    "Ejecuta ```modulo``` y crea una referencia ```m```\n",
    "\n",
    "\n",
    "Para importar solo algunos objetos de algún módulo\n",
    "\n",
    "```\n",
    "from modulo import fun1, fun2\n",
    "```\n",
    "\n",
    "Para importar todos los objetos de algún módulo\n",
    "\n",
    "```\n",
    "from modulo import *\n",
    "```\n",
    "\n",
    "La manera de usar una función de un modulo es \n",
    "\n",
    "```modulo.funcion(argumentos)```\n",
    "\n",
    "Una librería es una colección de módulos y se llama de la misma manera que un módulo.\n",
    "\n",
    "La libreria estándar de módulos todas tienen nombres en minúsculas.\n",
    "\n",
    "(Se recomienda usar usar nombres capitalizados en módulos propios para distinguirlos de la librería estándard)\n",
    "\n",
    "\n"
   ]
  },
  {
   "cell_type": "markdown",
   "id": "a0d210aa-c23e-447e-8f3a-34703df3ebc2",
   "metadata": {},
   "source": [
    "Ejemplo"
   ]
  },
  {
   "cell_type": "code",
   "execution_count": 74,
   "id": "12d675e6-d8e9-4e60-ae75-948fd0474d0c",
   "metadata": {
    "tags": []
   },
   "outputs": [
    {
     "data": {
      "text/plain": [
       "5"
      ]
     },
     "execution_count": 74,
     "metadata": {},
     "output_type": "execute_result"
    }
   ],
   "source": [
    "import random\n",
    "x = random.randint(1,6)\n",
    "x"
   ]
  },
  {
   "cell_type": "markdown",
   "id": "3386d242-c49b-4b7d-90ef-b2635eadbf72",
   "metadata": {},
   "source": [
    "**Módulos de la librería estándard importantes**\n",
    "\n",
    "**sys**: Funciones y parámetros específicos del sistema operativo.\n",
    "\n",
    "**os:** Interfaz con el sistema operativo.\n",
    "\n",
    "**os.path**: Funciones de acceso a las rutas del sistema.\n",
    "\n",
    "**io**: Funciones para manejo de flujos de datos y ficheros.\n",
    "\n",
    "**string**: Funciones con cadenas de caracteres.\n",
    "\n",
    "**datetime**: Funciones para fechas y tiempos.\n",
    "\n",
    "**math**: Funciones y constantes matemáticas.\n",
    "\n",
    "**statistics**: Funciones estadísticas.\n",
    "\n",
    "**random**: Generación de números pseudo-aleatorios.\n",
    "\n",
    "\n",
    "**Otras librerías**\n",
    "\n",
    "Usaremos algunas de ellas\n",
    "\n",
    "**NumPy**: Manejo de matrices y álgebra lineal.\n",
    "\n",
    "**scikit-learn**: Funciones de aprendizaje automático\n",
    "\n",
    "**matplotlib**: Representación gráfica de datos.\n",
    "\n",
    "**Tensor Flow**: Aprendizaje automático. Facilita la construcción, y entrenamiento de modelos basados en redes neuronales.\n",
    "\n",
    "**Pandas**: Funciones para el manejo y análisis de estructuras de datos"
   ]
  },
  {
   "cell_type": "markdown",
   "id": "064eb130-1772-4733-b38b-56eaf362631c",
   "metadata": {},
   "source": [
    "Cómo en la práctica la referencia a los objetos se escribe como si fuera una asignación de ahora en adelante le llamaremos así."
   ]
  },
  {
   "cell_type": "markdown",
   "id": "1715f969-d40e-4c75-89e6-7a014a7daa85",
   "metadata": {},
   "source": [
    "## Los datos primitivos simples"
   ]
  },
  {
   "cell_type": "markdown",
   "id": "1e34d711-485e-4f01-8155-6b26ddbcbe84",
   "metadata": {},
   "source": [
    "Número"
   ]
  },
  {
   "cell_type": "code",
   "execution_count": 338,
   "id": "4a34a330-3c3e-442b-8479-be43c8c408e4",
   "metadata": {},
   "outputs": [
    {
     "data": {
      "text/plain": [
       "float"
      ]
     },
     "execution_count": 338,
     "metadata": {},
     "output_type": "execute_result"
    }
   ],
   "source": [
    "#Flotante\n",
    "type(4.59484)"
   ]
  },
  {
   "cell_type": "code",
   "execution_count": 339,
   "id": "2051f9a4-e9a0-4fc2-9d24-8d1f3849f9c1",
   "metadata": {},
   "outputs": [
    {
     "data": {
      "text/plain": [
       "int"
      ]
     },
     "execution_count": 339,
     "metadata": {},
     "output_type": "execute_result"
    }
   ],
   "source": [
    "# entero\n",
    "type(56)"
   ]
  },
  {
   "cell_type": "code",
   "execution_count": 343,
   "id": "70e3ff30-6ac0-4bd5-93cd-eb47ab2699a1",
   "metadata": {},
   "outputs": [
    {
     "data": {
      "text/plain": [
       "complex"
      ]
     },
     "execution_count": 343,
     "metadata": {},
     "output_type": "execute_result"
    }
   ],
   "source": [
    "# complejo\n",
    "c = 5+0j\n",
    "type(c)"
   ]
  },
  {
   "cell_type": "code",
   "execution_count": 342,
   "id": "329e5a24-b6bf-4b5c-9d72-82586d7d8540",
   "metadata": {},
   "outputs": [
    {
     "data": {
      "text/plain": [
       "type"
      ]
     },
     "execution_count": 342,
     "metadata": {},
     "output_type": "execute_result"
    }
   ],
   "source": [
    "# cadena\n",
    "type(str)"
   ]
  },
  {
   "cell_type": "code",
   "execution_count": 333,
   "id": "61264885-173f-482f-b2c2-5f313555874d",
   "metadata": {},
   "outputs": [],
   "source": [
    "complejo = 10.7 + 7.10j"
   ]
  },
  {
   "cell_type": "markdown",
   "id": "2e0fc6fd-6375-40d8-9f7e-81097546e68f",
   "metadata": {},
   "source": [
    "**Obtener Subcadenas**"
   ]
  },
  {
   "cell_type": "code",
   "execution_count": 357,
   "id": "c1ecddac-358b-41fb-a07b-c7cded189827",
   "metadata": {},
   "outputs": [
    {
     "data": {
      "text/plain": [
       "'todos'"
      ]
     },
     "execution_count": 357,
     "metadata": {},
     "output_type": "execute_result"
    }
   ],
   "source": [
    "s = \"hola a todos\"\n",
    "s[7:len(s)]"
   ]
  },
  {
   "cell_type": "code",
   "execution_count": 358,
   "id": "1f780d9a-abc6-46b7-a57e-2f426357aee2",
   "metadata": {},
   "outputs": [
    {
     "data": {
      "text/plain": [
       "'oaatds'"
      ]
     },
     "execution_count": 358,
     "metadata": {},
     "output_type": "execute_result"
    }
   ],
   "source": [
    "s[1:len(s):2]"
   ]
  },
  {
   "cell_type": "markdown",
   "id": "acce4c23-37f0-4774-bc1f-f6af208ced44",
   "metadata": {},
   "source": [
    "**Copia de cadenas**"
   ]
  },
  {
   "cell_type": "code",
   "execution_count": 75,
   "id": "fe4c972d-5ed0-449b-bd0e-5f06193b076b",
   "metadata": {},
   "outputs": [
    {
     "data": {
      "text/plain": [
       "'GeoInteligenciaGeoInteligenciaGeoInteligenciaGeoInteligencia'"
      ]
     },
     "execution_count": 75,
     "metadata": {},
     "output_type": "execute_result"
    }
   ],
   "source": [
    "\"GeoInteligencia\"*4"
   ]
  },
  {
   "cell_type": "markdown",
   "id": "80d2f1ff-4db1-4cc6-82fc-8d8744f97c43",
   "metadata": {},
   "source": [
    "**Concatenación**"
   ]
  },
  {
   "cell_type": "code",
   "execution_count": 76,
   "id": "8c1f73b9-2f0c-4070-90cf-52a41cc41d68",
   "metadata": {},
   "outputs": [
    {
     "data": {
      "text/plain": [
       "'Hoy es miércoles'"
      ]
     },
     "execution_count": 76,
     "metadata": {},
     "output_type": "execute_result"
    }
   ],
   "source": [
    "a = \"Hoy\"\n",
    "b = \" es miércoles\"\n",
    "a+b"
   ]
  },
  {
   "cell_type": "markdown",
   "id": "531913bd-72c5-4e47-9ff9-404319677c3f",
   "metadata": {},
   "source": [
    "**Los operadores de comparación operan tambien sobre las cadenas**"
   ]
  },
  {
   "cell_type": "code",
   "execution_count": 375,
   "id": "ca576d9b-cc41-4527-b8fa-8e5508097463",
   "metadata": {},
   "outputs": [
    {
     "data": {
      "text/plain": [
       "True"
      ]
     },
     "execution_count": 375,
     "metadata": {},
     "output_type": "execute_result"
    }
   ],
   "source": [
    "\"bote\">=\"alarma\""
   ]
  },
  {
   "cell_type": "markdown",
   "id": "129165a2-1094-4a5c-93a3-728407883db4",
   "metadata": {},
   "source": [
    "**funciones de cadenas**"
   ]
  },
  {
   "cell_type": "code",
   "execution_count": 389,
   "id": "91db7895-207a-472e-a99a-0afbf5002065",
   "metadata": {},
   "outputs": [
    {
     "name": "stdout",
     "output_type": "stream",
     "text": [
      "16\n"
     ]
    }
   ],
   "source": [
    "#longitud de la cadena\n",
    "s = \"hoy es miércoles\"\n",
    "print(len(s))"
   ]
  },
  {
   "cell_type": "code",
   "execution_count": 391,
   "id": "a574dde6-85eb-4434-a2cd-46d8f2e6cdb1",
   "metadata": {},
   "outputs": [
    {
     "data": {
      "text/plain": [
       "' '"
      ]
     },
     "execution_count": 391,
     "metadata": {},
     "output_type": "execute_result"
    }
   ],
   "source": [
    "#el caracter con menor valor\n",
    "min(s)"
   ]
  },
  {
   "cell_type": "code",
   "execution_count": 392,
   "id": "a15ead62-dbdd-45db-95d0-b1e00ad38729",
   "metadata": {},
   "outputs": [
    {
     "data": {
      "text/plain": [
       "'é'"
      ]
     },
     "execution_count": 392,
     "metadata": {},
     "output_type": "execute_result"
    }
   ],
   "source": [
    "#el caracter con mayor valor\n",
    "max(s)"
   ]
  },
  {
   "cell_type": "code",
   "execution_count": 393,
   "id": "107dc591-f247-4373-b0e8-3e306b4b2ae4",
   "metadata": {},
   "outputs": [
    {
     "data": {
      "text/plain": [
       "'HOY ES MIÉRCOLES'"
      ]
     },
     "execution_count": 393,
     "metadata": {},
     "output_type": "execute_result"
    }
   ],
   "source": [
    "#Convertir a mayúsculas\n",
    "s.upper()\n",
    "\n"
   ]
  },
  {
   "cell_type": "code",
   "execution_count": 394,
   "id": "ac83a5a1-cb7e-4d61-9d50-e9ed0d0e11ef",
   "metadata": {},
   "outputs": [
    {
     "data": {
      "text/plain": [
       "'hoy es miércoles'"
      ]
     },
     "execution_count": 394,
     "metadata": {},
     "output_type": "execute_result"
    }
   ],
   "source": [
    "#Convertir a minúscular \n",
    "s.lower()"
   ]
  },
  {
   "cell_type": "code",
   "execution_count": 397,
   "id": "fb52ad73-0303-4ec4-bfab-8a8a07ce6a42",
   "metadata": {},
   "outputs": [
    {
     "data": {
      "text/plain": [
       "'Rodrigo'"
      ]
     },
     "execution_count": 397,
     "metadata": {},
     "output_type": "execute_result"
    }
   ],
   "source": [
    "#Convertir a mayúscula la primera letra\n",
    "\n",
    "\"rodrigo\".title()"
   ]
  },
  {
   "cell_type": "code",
   "execution_count": 399,
   "id": "82863202-2ed9-401d-8faf-2db3911d1799",
   "metadata": {},
   "outputs": [
    {
     "data": {
      "text/plain": [
       "['hoy', 'es', 'miércoles']"
      ]
     },
     "execution_count": 399,
     "metadata": {},
     "output_type": "execute_result"
    }
   ],
   "source": [
    "#Delimitador de cadena\n",
    "s.split(' ')"
   ]
  },
  {
   "cell_type": "markdown",
   "id": "e94f2b70-6fbd-4f1a-ba4e-1dbc48e7f990",
   "metadata": {},
   "source": [
    "**Formato de cadenas**"
   ]
  },
  {
   "cell_type": "code",
   "execution_count": 412,
   "id": "22dc1b20-4f89-4a7f-9781-c32d51e87676",
   "metadata": {},
   "outputs": [
    {
     "data": {
      "text/plain": [
       "'1 pulgada equivale a 2.54 centímetros'"
      ]
     },
     "execution_count": 412,
     "metadata": {},
     "output_type": "execute_result"
    }
   ],
   "source": [
    "#Devuelve la cadena con sustituciones indicadas con los marcadores de posición {}\n",
    "\n",
    "pulgada = 1\n",
    "cm = 1*2.54\n",
    "\n",
    "#Reemplazo por posición\n",
    "\"{0} pulgada equivale a {1} centímetros\".format(pulgada,cm)\n"
   ]
  },
  {
   "cell_type": "code",
   "execution_count": 419,
   "id": "b7de72f1-35f4-4659-910a-6f05099a6300",
   "metadata": {},
   "outputs": [
    {
     "data": {
      "text/plain": [
       "'1 pulgada equivale a 2.54 centímetros'"
      ]
     },
     "execution_count": 419,
     "metadata": {},
     "output_type": "execute_result"
    }
   ],
   "source": [
    "#reemplazo por nombre de variable\n",
    "\n",
    "\"{var1} pulgada equivale a {var2} centímetros\".format(var1 = pulgada,var2 = pulgada*2.54)"
   ]
  },
  {
   "cell_type": "code",
   "execution_count": 428,
   "id": "5e307559-0db1-4237-8980-ee74c56512ef",
   "metadata": {},
   "outputs": [
    {
     "data": {
      "text/plain": [
       "'Mi nombre es Rodrigo                                                                                              '"
      ]
     },
     "execution_count": 428,
     "metadata": {},
     "output_type": "execute_result"
    }
   ],
   "source": [
    "#alineamiento por la izquierda con relleno de n caracteres\n",
    "\n",
    "\n",
    "\"Mi nombre es {0:100} \".format(\"Rodrigo\")"
   ]
  },
  {
   "cell_type": "code",
   "execution_count": 430,
   "id": "f455f698-b8cc-4eb1-834c-a45ef8eaca8d",
   "metadata": {},
   "outputs": [
    {
     "data": {
      "text/plain": [
       "'Mi nombre es                                                                                              Rodrigo '"
      ]
     },
     "execution_count": 430,
     "metadata": {},
     "output_type": "execute_result"
    }
   ],
   "source": [
    "#alineamiento por la derecha con relleno\n",
    "\"Mi nombre es {0:>100} \".format(\"Rodrigo\")"
   ]
  },
  {
   "cell_type": "code",
   "execution_count": 431,
   "id": "468b63b9-fcc1-400c-8a5c-5536ab7df48d",
   "metadata": {},
   "outputs": [
    {
     "data": {
      "text/plain": [
       "'Mi nombre es                                               Rodrigo                                                '"
      ]
     },
     "execution_count": 431,
     "metadata": {},
     "output_type": "execute_result"
    }
   ],
   "source": [
    "#centrar en 100 caracteres\n",
    "\"Mi nombre es {0:^100} \".format(\"Rodrigo\")"
   ]
  },
  {
   "cell_type": "code",
   "execution_count": 444,
   "id": "797cbde7-dec6-450a-8337-de56bb6b4ab3",
   "metadata": {},
   "outputs": [
    {
     "data": {
      "text/plain": [
       "'El radio del cículo truncado a 2 números es 3.14'"
      ]
     },
     "execution_count": 444,
     "metadata": {},
     "output_type": "execute_result"
    }
   ],
   "source": [
    "\"El radio del cículo truncado a 2 números es {:1.2f}\".format(3.141505)"
   ]
  },
  {
   "cell_type": "markdown",
   "id": "daddbc9e-919f-404f-9ad4-403c0e133686",
   "metadata": {},
   "source": [
    "**Esto fué un recordatorio básico de Python. Para mas información consultar la documentación**\n",
    "\n",
    "**Que hago si quiero conocer o no me acuerdo de las diferentes operaciones que puedo aplicar a un tipo de objeto?**\n",
    "\n",
    "1) Internet, documentación Oficial de Python, Libros\n",
    "2) Recurrir a ```help```"
   ]
  },
  {
   "cell_type": "markdown",
   "id": "551a4f55-4c02-4b93-a90a-86d953387335",
   "metadata": {},
   "source": [
    "#Ejemplo:  \n",
    "si no me acuerdo que operaciones puedo hacerle a un ```str```:  \n",
    "```help(str)```"
   ]
  },
  {
   "cell_type": "markdown",
   "id": "cec55f19-6b1f-45fb-9369-c87317dc360a",
   "metadata": {},
   "source": [
    "**Ejercicios**\n",
    "\n",
    "1. Escribir un programa en Python que muestre la tabla de verdad del operador lógico ```xor```.\n",
    "2. Escribir un programa en Python que:   \n",
    "    a) Pida al usuario el tamaño de una matrix cuadrada,   \n",
    "    b) Que genere dos matrices A y B de ese mismo tamaño con números positivos aleatorios.  \n",
    "    c) Que las imprima   \n",
    "    d) Que devuelva la multiplicación de matrices A*B   \n"
   ]
  },
  {
   "cell_type": "markdown",
   "id": "0a234a13-7966-4bab-9aa4-6f934f9307ef",
   "metadata": {},
   "source": [
    "**Para mas información**\n",
    "\n",
    "1. [Tutorial de la página oficial de Python](https://docs.python.org/3/tutorial/)\n",
    "2. [Manual de Python Aprende Con Alf](https://aprendeconalf.es/docencia/python/manual/)\n",
    "3. Programming in Python 3, Mark Summerfield, 2nd Ed."
   ]
  }
 ],
 "metadata": {
  "kernelspec": {
   "display_name": "Python 3 (ipykernel)",
   "language": "python",
   "name": "python3"
  },
  "language_info": {
   "codemirror_mode": {
    "name": "ipython",
    "version": 3
   },
   "file_extension": ".py",
   "mimetype": "text/x-python",
   "name": "python",
   "nbconvert_exporter": "python",
   "pygments_lexer": "ipython3",
   "version": "3.9.16"
  }
 },
 "nbformat": 4,
 "nbformat_minor": 5
}
