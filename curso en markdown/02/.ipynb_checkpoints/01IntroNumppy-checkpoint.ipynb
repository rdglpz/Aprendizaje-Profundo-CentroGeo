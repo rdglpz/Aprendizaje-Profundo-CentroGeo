{
 "cells": [
  {
   "cell_type": "markdown",
   "id": "ad790699-cd07-468c-8207-e57a05d97800",
   "metadata": {},
   "source": [
    "# 2. Python para Cómputo Científico.\n",
    "Introducción a la librería NumPy (Numerical Python)\n",
    "\n",
    "* Es una librería fundamental para el cómputo numérico.\n",
    "* Incluye potentes funciones de algebra lineal, generación de números pseudo aleatorios, cómputo matricial etc...\n",
    "* Es mas rápido que la librería estándar de Python para la manipulación y operaciones matriciales en álgebra lineal.\n",
    "* Es utilizado ampliamente en cómputo científico.\n",
    "* Tiene herramientas para intergrar otros lenguajes como C, C++, Fortran "
   ]
  },
  {
   "cell_type": "markdown",
   "id": "d7cd505f-29ac-49a7-9cb6-c90403077512",
   "metadata": {},
   "source": [
    "Para importar la librería escribimos:"
   ]
  },
  {
   "cell_type": "code",
   "execution_count": 23,
   "id": "edc77382-00ec-41b3-bd4b-3d61f3e3ae1e",
   "metadata": {},
   "outputs": [],
   "source": [
    "import numpy as np"
   ]
  },
  {
   "cell_type": "markdown",
   "id": "410e9f71-f14e-4579-bc82-897eb50884f3",
   "metadata": {},
   "source": [
    "## Creación de arreglos"
   ]
  },
  {
   "cell_type": "markdown",
   "id": "dbddcd4b-ce38-4a7e-bde6-a19996fa3d14",
   "metadata": {},
   "source": [
    "Una clase fundamental de Numpy es la clase ```array```"
   ]
  },
  {
   "cell_type": "code",
   "execution_count": 60,
   "id": "7f13713e-4198-4c2b-9426-fd6cabd7af3b",
   "metadata": {},
   "outputs": [
    {
     "name": "stdout",
     "output_type": "stream",
     "text": [
      "lista como argumento utilizada :  [0, 1, 2, 3, 4]\n"
     ]
    },
    {
     "data": {
      "text/plain": [
       "array([0, 1, 2, 3, 4])"
      ]
     },
     "execution_count": 60,
     "metadata": {},
     "output_type": "execute_result"
    }
   ],
   "source": [
    "#crear un arreglo unidimensional a partir de una lista de python\n",
    "\n",
    "#np.array recibe un solo argumento para crear la lista n dimensional\n",
    "#L = np.array(5,6,7,8)\n",
    "\n",
    "L = range(5)\n",
    "print(\"lista como argumento utilizada : \", [i for i in L])\n",
    "\n",
    "np.array(L)"
   ]
  },
  {
   "cell_type": "code",
   "execution_count": 25,
   "id": "d24cd18a-e402-4208-82f3-583800fd9d22",
   "metadata": {},
   "outputs": [
    {
     "data": {
      "text/plain": [
       "array([[0, 1, 2, 3, 4],\n",
       "       [0, 1, 2, 3, 4],\n",
       "       [0, 1, 2, 3, 4],\n",
       "       [0, 1, 2, 3, 4],\n",
       "       [0, 1, 2, 3, 4]])"
      ]
     },
     "execution_count": 25,
     "metadata": {},
     "output_type": "execute_result"
    }
   ],
   "source": [
    "#crear un arreglo bidimensional a partir de una lista de listas de python\n",
    "L = [[i for i in range(5)] for j in range(5)]\n",
    "\n",
    "np.array(L)"
   ]
  },
  {
   "cell_type": "code",
   "execution_count": 26,
   "id": "956ff153-0737-42e2-b813-453439bf0d8a",
   "metadata": {},
   "outputs": [
    {
     "name": "stdout",
     "output_type": "stream",
     "text": [
      "verificando dimensiones: (3, 4, 5)\n",
      "[[[0 0 0 0 0]\n",
      "  [0 0 0 0 0]\n",
      "  [0 0 0 0 0]\n",
      "  [0 0 0 0 0]]\n",
      "\n",
      " [[0 0 0 0 0]\n",
      "  [0 0 0 0 0]\n",
      "  [0 0 0 0 0]\n",
      "  [0 0 0 0 0]]\n",
      "\n",
      " [[0 0 0 0 0]\n",
      "  [0 0 0 0 0]\n",
      "  [0 0 0 0 0]\n",
      "  [0 0 0 0 0]]]\n"
     ]
    }
   ],
   "source": [
    "# Crear un arreglo tridimensional de 3 x 4 x 5\n",
    "\n",
    "L = [[[0 for i in range(5)] for j in range(4)] for k in range(3)]\n",
    "\n",
    "print(\"verificando dimensiones:\",np.array(L).shape)\n",
    "print(np.array(L))"
   ]
  },
  {
   "cell_type": "markdown",
   "id": "418e281d-e51c-486f-b6ac-4b771e3f1959",
   "metadata": {},
   "source": [
    "Numpy nos facilita la tarea de generar matrices"
   ]
  },
  {
   "cell_type": "code",
   "execution_count": 27,
   "id": "0fed20f5-14cf-4583-9b5c-727187a41a09",
   "metadata": {},
   "outputs": [
    {
     "data": {
      "text/plain": [
       "array([[[0., 0., 0., 0., 0.],\n",
       "        [0., 0., 0., 0., 0.],\n",
       "        [0., 0., 0., 0., 0.],\n",
       "        [0., 0., 0., 0., 0.]],\n",
       "\n",
       "       [[0., 0., 0., 0., 0.],\n",
       "        [0., 0., 0., 0., 0.],\n",
       "        [0., 0., 0., 0., 0.],\n",
       "        [0., 0., 0., 0., 0.]],\n",
       "\n",
       "       [[0., 0., 0., 0., 0.],\n",
       "        [0., 0., 0., 0., 0.],\n",
       "        [0., 0., 0., 0., 0.],\n",
       "        [0., 0., 0., 0., 0.]]])"
      ]
     },
     "execution_count": 27,
     "metadata": {},
     "output_type": "execute_result"
    }
   ],
   "source": [
    "np.empty((3,4,5))"
   ]
  },
  {
   "cell_type": "code",
   "execution_count": 28,
   "id": "eeb2de5b-3ffe-4194-8e4a-6b129b3f11fc",
   "metadata": {},
   "outputs": [
    {
     "data": {
      "text/plain": [
       "array([[[1., 1., 1., 1., 1.],\n",
       "        [1., 1., 1., 1., 1.],\n",
       "        [1., 1., 1., 1., 1.],\n",
       "        [1., 1., 1., 1., 1.]],\n",
       "\n",
       "       [[1., 1., 1., 1., 1.],\n",
       "        [1., 1., 1., 1., 1.],\n",
       "        [1., 1., 1., 1., 1.],\n",
       "        [1., 1., 1., 1., 1.]],\n",
       "\n",
       "       [[1., 1., 1., 1., 1.],\n",
       "        [1., 1., 1., 1., 1.],\n",
       "        [1., 1., 1., 1., 1.],\n",
       "        [1., 1., 1., 1., 1.]]])"
      ]
     },
     "execution_count": 28,
     "metadata": {},
     "output_type": "execute_result"
    }
   ],
   "source": [
    "np.ones((3,4,5))"
   ]
  },
  {
   "cell_type": "code",
   "execution_count": 29,
   "id": "c7bcd458-f4d2-4c9c-8707-ad4fdeaae3d9",
   "metadata": {},
   "outputs": [
    {
     "data": {
      "text/plain": [
       "array([[[4, 4, 4, 4, 4],\n",
       "        [4, 4, 4, 4, 4],\n",
       "        [4, 4, 4, 4, 4],\n",
       "        [4, 4, 4, 4, 4]],\n",
       "\n",
       "       [[4, 4, 4, 4, 4],\n",
       "        [4, 4, 4, 4, 4],\n",
       "        [4, 4, 4, 4, 4],\n",
       "        [4, 4, 4, 4, 4]],\n",
       "\n",
       "       [[4, 4, 4, 4, 4],\n",
       "        [4, 4, 4, 4, 4],\n",
       "        [4, 4, 4, 4, 4],\n",
       "        [4, 4, 4, 4, 4]]])"
      ]
     },
     "execution_count": 29,
     "metadata": {},
     "output_type": "execute_result"
    }
   ],
   "source": [
    "np.full((3,4,5), 4)"
   ]
  },
  {
   "cell_type": "code",
   "execution_count": 61,
   "id": "5e9af3e7-8108-4994-a0b1-198867315e4a",
   "metadata": {},
   "outputs": [
    {
     "data": {
      "text/plain": [
       "array([[[0., 0., 0., 0., 0.],\n",
       "        [0., 0., 0., 0., 0.],\n",
       "        [0., 0., 0., 0., 0.],\n",
       "        [0., 0., 0., 0., 0.]],\n",
       "\n",
       "       [[0., 0., 0., 0., 0.],\n",
       "        [0., 0., 0., 0., 0.],\n",
       "        [0., 0., 0., 0., 0.],\n",
       "        [0., 0., 0., 0., 0.]],\n",
       "\n",
       "       [[0., 0., 0., 0., 0.],\n",
       "        [0., 0., 0., 0., 0.],\n",
       "        [0., 0., 0., 0., 0.],\n",
       "        [0., 0., 0., 0., 0.]]])"
      ]
     },
     "execution_count": 61,
     "metadata": {},
     "output_type": "execute_result"
    }
   ],
   "source": [
    "np.zeros((3,4,5))"
   ]
  },
  {
   "cell_type": "code",
   "execution_count": 197,
   "id": "26ddb7ad-8d98-4239-a7e1-8f76fc860ec6",
   "metadata": {},
   "outputs": [
    {
     "data": {
      "text/plain": [
       "array([[1., 0., 0., ..., 0., 0., 0.],\n",
       "       [0., 1., 0., ..., 0., 0., 0.],\n",
       "       [0., 0., 1., ..., 0., 0., 0.],\n",
       "       ...,\n",
       "       [0., 0., 0., ..., 1., 0., 0.],\n",
       "       [0., 0., 0., ..., 0., 1., 0.],\n",
       "       [0., 0., 0., ..., 0., 0., 1.]])"
      ]
     },
     "execution_count": 197,
     "metadata": {},
     "output_type": "execute_result"
    }
   ],
   "source": [
    "np.identity(40)"
   ]
  },
  {
   "cell_type": "code",
   "execution_count": 31,
   "id": "9b2b7053-0d06-4ba2-a049-65b4d297fab3",
   "metadata": {},
   "outputs": [
    {
     "data": {
      "text/plain": [
       "array([   4,   49,   94,  139,  184,  229,  274,  319,  364,  409,  454,\n",
       "        499,  544,  589,  634,  679,  724,  769,  814,  859,  904,  949,\n",
       "        994, 1039, 1084, 1129, 1174, 1219, 1264, 1309, 1354, 1399, 1444,\n",
       "       1489, 1534, 1579, 1624, 1669, 1714, 1759, 1804, 1849, 1894, 1939,\n",
       "       1984, 2029, 2074, 2119, 2164, 2209, 2254, 2299, 2344, 2389, 2434,\n",
       "       2479, 2524, 2569, 2614, 2659, 2704, 2749, 2794, 2839, 2884, 2929,\n",
       "       2974, 3019, 3064, 3109, 3154, 3199, 3244, 3289, 3334, 3379, 3424,\n",
       "       3469, 3514, 3559, 3604, 3649, 3694, 3739, 3784, 3829, 3874, 3919,\n",
       "       3964])"
      ]
     },
     "execution_count": 31,
     "metadata": {},
     "output_type": "execute_result"
    }
   ],
   "source": [
    "np.arange(4, 4000, 45)"
   ]
  },
  {
   "cell_type": "code",
   "execution_count": 32,
   "id": "d46005d5-24be-493d-8964-d47d953c5de8",
   "metadata": {},
   "outputs": [
    {
     "data": {
      "text/plain": [
       "array([  0.,  25.,  50.,  75., 100.])"
      ]
     },
     "execution_count": 32,
     "metadata": {},
     "output_type": "execute_result"
    }
   ],
   "source": [
    "#genera una secuencia de  5 valores equidistantes entre 0 y 100\n",
    "np.linspace(0, 100, 5)"
   ]
  },
  {
   "cell_type": "code",
   "execution_count": 33,
   "id": "0ce24429-7dcc-4681-999a-231f48222cc8",
   "metadata": {},
   "outputs": [
    {
     "data": {
      "text/plain": [
       "array([[0.47482016, 0.65318112, 0.69848059, 0.48551892, 0.05816314],\n",
       "       [0.30497752, 0.94631118, 0.2527726 , 0.48671779, 0.87413625],\n",
       "       [0.5208441 , 0.72836687, 0.01813511, 0.16006042, 0.76304518],\n",
       "       [0.93748983, 0.17968114, 0.08876937, 0.27717292, 0.68367083]])"
      ]
     },
     "execution_count": 33,
     "metadata": {},
     "output_type": "execute_result"
    }
   ],
   "source": [
    "np.random.random((4,5)) "
   ]
  },
  {
   "cell_type": "code",
   "execution_count": 54,
   "id": "fe4e1461-ac19-4869-b060-0d768d53fb2d",
   "metadata": {},
   "outputs": [
    {
     "name": "stdout",
     "output_type": "stream",
     "text": [
      "[[0.14463806 0.30040581 0.59364159 0.90761022 0.70837993]\n",
      " [0.25853222 0.31349655 0.94424297 0.18392525 0.77292012]\n",
      " [0.33861879 0.97812119 0.07808521 0.23337946 0.64971   ]\n",
      " [0.39180323 0.95143617 0.01801772 0.40079555 0.79712728]]   float64\n"
     ]
    }
   ],
   "source": [
    "#revisar el tipo de arreglo con dtype\n",
    "\n",
    "floatArray = np.random.random((4,5)) \n",
    "\n",
    "print(floatArray,\" \",floatArray.dtype)\n"
   ]
  },
  {
   "cell_type": "code",
   "execution_count": null,
   "id": "13583140-9208-4de6-87d8-ec86776765b1",
   "metadata": {},
   "outputs": [],
   "source": []
  },
  {
   "cell_type": "markdown",
   "id": "d5d79d03-b130-461b-9620-80a34690d19e",
   "metadata": {},
   "source": [
    "### Atributos importantes"
   ]
  },
  {
   "cell_type": "code",
   "execution_count": 35,
   "id": "d95b95a8-49d3-48b9-8ef0-dd14c4e90b61",
   "metadata": {},
   "outputs": [
    {
     "name": "stdout",
     "output_type": "stream",
     "text": [
      "Help on getset descriptor numpy.ndarray.ndim:\n",
      "\n",
      "ndim\n",
      "    Number of array dimensions.\n",
      "    \n",
      "    Examples\n",
      "    --------\n",
      "    >>> x = np.array([1, 2, 3])\n",
      "    >>> x.ndim\n",
      "    1\n",
      "    >>> y = np.zeros((2, 3, 4))\n",
      "    >>> y.ndim\n",
      "    3\n",
      "\n"
     ]
    }
   ],
   "source": [
    "help(np.ndarray.ndim)"
   ]
  },
  {
   "cell_type": "code",
   "execution_count": 36,
   "id": "5fa6d6f9-b509-49ec-a417-0b2903bf4658",
   "metadata": {},
   "outputs": [
    {
     "name": "stdout",
     "output_type": "stream",
     "text": [
      "Help on getset descriptor numpy.ndarray.shape:\n",
      "\n",
      "shape\n",
      "    Tuple of array dimensions.\n",
      "    \n",
      "    The shape property is usually used to get the current shape of an array,\n",
      "    but may also be used to reshape the array in-place by assigning a tuple of\n",
      "    array dimensions to it.  As with `numpy.reshape`, one of the new shape\n",
      "    dimensions can be -1, in which case its value is inferred from the size of\n",
      "    the array and the remaining dimensions. Reshaping an array in-place will\n",
      "    fail if a copy is required.\n",
      "    \n",
      "    Examples\n",
      "    --------\n",
      "    >>> x = np.array([1, 2, 3, 4])\n",
      "    >>> x.shape\n",
      "    (4,)\n",
      "    >>> y = np.zeros((2, 3, 4))\n",
      "    >>> y.shape\n",
      "    (2, 3, 4)\n",
      "    >>> y.shape = (3, 8)\n",
      "    >>> y\n",
      "    array([[ 0.,  0.,  0.,  0.,  0.,  0.,  0.,  0.],\n",
      "           [ 0.,  0.,  0.,  0.,  0.,  0.,  0.,  0.],\n",
      "           [ 0.,  0.,  0.,  0.,  0.,  0.,  0.,  0.]])\n",
      "    >>> y.shape = (3, 6)\n",
      "    Traceback (most recent call last):\n",
      "      File \"<stdin>\", line 1, in <module>\n",
      "    ValueError: total size of new array must be unchanged\n",
      "    >>> np.zeros((4,2))[::2].shape = (-1,)\n",
      "    Traceback (most recent call last):\n",
      "      File \"<stdin>\", line 1, in <module>\n",
      "    AttributeError: Incompatible shape for in-place modification. Use\n",
      "    `.reshape()` to make a copy with the desired shape.\n",
      "    \n",
      "    See Also\n",
      "    --------\n",
      "    numpy.reshape : similar function\n",
      "    ndarray.reshape : similar method\n",
      "\n"
     ]
    }
   ],
   "source": [
    "help(np.ndarray.shape)"
   ]
  },
  {
   "cell_type": "code",
   "execution_count": 37,
   "id": "21342913-5bd3-49a9-a675-0b41d364c56e",
   "metadata": {},
   "outputs": [
    {
     "name": "stdout",
     "output_type": "stream",
     "text": [
      "Help on getset descriptor numpy.ndarray.size:\n",
      "\n",
      "size\n",
      "    Number of elements in the array.\n",
      "    \n",
      "    Equal to ``np.prod(a.shape)``, i.e., the product of the array's\n",
      "    dimensions.\n",
      "    \n",
      "    Notes\n",
      "    -----\n",
      "    `a.size` returns a standard arbitrary precision Python integer. This\n",
      "    may not be the case with other methods of obtaining the same value\n",
      "    (like the suggested ``np.prod(a.shape)``, which returns an instance\n",
      "    of ``np.int_``), and may be relevant if the value is used further in\n",
      "    calculations that may overflow a fixed size integer type.\n",
      "    \n",
      "    Examples\n",
      "    --------\n",
      "    >>> x = np.zeros((3, 5, 2), dtype=np.complex128)\n",
      "    >>> x.size\n",
      "    30\n",
      "    >>> np.prod(x.shape)\n",
      "    30\n",
      "\n"
     ]
    }
   ],
   "source": [
    "help(np.ndarray.size)"
   ]
  },
  {
   "cell_type": "code",
   "execution_count": 38,
   "id": "2b3ebc18-81a7-4211-8eca-56da5b8b7f47",
   "metadata": {},
   "outputs": [
    {
     "name": "stdout",
     "output_type": "stream",
     "text": [
      "Help on getset descriptor numpy.ndarray.dtype:\n",
      "\n",
      "dtype\n",
      "    Data-type of the array's elements.\n",
      "    \n",
      "    Parameters\n",
      "    ----------\n",
      "    None\n",
      "    \n",
      "    Returns\n",
      "    -------\n",
      "    d : numpy dtype object\n",
      "    \n",
      "    See Also\n",
      "    --------\n",
      "    numpy.dtype\n",
      "    \n",
      "    Examples\n",
      "    --------\n",
      "    >>> x\n",
      "    array([[0, 1],\n",
      "           [2, 3]])\n",
      "    >>> x.dtype\n",
      "    dtype('int32')\n",
      "    >>> type(x.dtype)\n",
      "    <type 'numpy.dtype'>\n",
      "\n"
     ]
    }
   ],
   "source": [
    "help(np.ndarray.dtype)"
   ]
  },
  {
   "cell_type": "code",
   "execution_count": 39,
   "id": "c6eba46d-36e3-4a39-bbf8-98e2e01805ef",
   "metadata": {},
   "outputs": [
    {
     "name": "stdout",
     "output_type": "stream",
     "text": [
      "Help on getset descriptor numpy.ndarray.itemsize:\n",
      "\n",
      "itemsize\n",
      "    Length of one array element in bytes.\n",
      "    \n",
      "    Examples\n",
      "    --------\n",
      "    >>> x = np.array([1,2,3], dtype=np.float64)\n",
      "    >>> x.itemsize\n",
      "    8\n",
      "    >>> x = np.array([1,2,3], dtype=np.complex128)\n",
      "    >>> x.itemsize\n",
      "    16\n",
      "\n"
     ]
    }
   ],
   "source": [
    "help(np.ndarray.itemsize)"
   ]
  },
  {
   "cell_type": "code",
   "execution_count": 40,
   "id": "d9801b88-b91f-4970-81c2-86a5f2bc5a9a",
   "metadata": {},
   "outputs": [
    {
     "name": "stdout",
     "output_type": "stream",
     "text": [
      "Help on getset descriptor numpy.ndarray.data:\n",
      "\n",
      "data\n",
      "    Python buffer object pointing to the start of the array's data.\n",
      "\n"
     ]
    }
   ],
   "source": [
    "help(np.ndarray.data)"
   ]
  },
  {
   "cell_type": "markdown",
   "id": "15d1cabc-5b95-4ec6-b8be-428f793449ee",
   "metadata": {},
   "source": [
    "## Operaciones Básicas"
   ]
  },
  {
   "cell_type": "markdown",
   "id": "8043a95e-cc58-47ca-9a34-f9f23e145945",
   "metadata": {},
   "source": [
    "Los operadores aritméticos operan elemento por elemento. El resultado se guarda en una vector nuevo de las mismas dimensiones "
   ]
  },
  {
   "cell_type": "code",
   "execution_count": 198,
   "id": "7eba74e1-17f2-4ae3-8e21-6945361be0c7",
   "metadata": {},
   "outputs": [
    {
     "name": "stdout",
     "output_type": "stream",
     "text": [
      "a =  [0 1 2 3 4]\n",
      "b =  [5 6 7 8 9]\n",
      "a*b =  [ 0  6 14 24 36] no confundir esta operación con el producto matricial!\n",
      "a^2 =  [ 0  1  4  9 16]\n",
      "cos(a) =  [ 1.          0.54030231 -0.41614684 -0.9899925  -0.65364362]\n"
     ]
    }
   ],
   "source": [
    "a = np.arange(5)\n",
    "b = np.arange(5,10)\n",
    "print(\"a = \", a)\n",
    "print(\"b = \", b)\n",
    "print(\"a*b = \", a*b , \"no confundir esta operación con el producto matricial!\")\n",
    "print(\"a^2 = \", a**2)\n",
    "print(\"cos(a) = \", np.cos(a))"
   ]
  },
  {
   "cell_type": "code",
   "execution_count": 72,
   "id": "4573f303-f8d2-48af-acb7-35624cca51c1",
   "metadata": {},
   "outputs": [
    {
     "name": "stdout",
     "output_type": "stream",
     "text": [
      "30\n"
     ]
    }
   ],
   "source": [
    "#producto punto con vectores\n",
    "print(a.dot(a))"
   ]
  },
  {
   "cell_type": "code",
   "execution_count": 102,
   "id": "21509f64-d385-4cec-8444-45b4d68460c8",
   "metadata": {},
   "outputs": [
    {
     "name": "stdout",
     "output_type": "stream",
     "text": [
      "A : \n",
      "  [[1 0 1 1 0]\n",
      " [1 0 0 1 1]\n",
      " [0 0 1 1 1]\n",
      " [1 1 1 1 0]\n",
      " [0 1 1 0 0]]\n",
      "B : \n",
      "  [[0 0 1 0 1]\n",
      " [1 0 0 0 0]\n",
      " [1 1 1 0 0]\n",
      " [1 1 0 0 0]\n",
      " [1 1 0 0 0]]\n",
      "A x B : \n",
      "  [[2 2 2 0 1]\n",
      " [2 2 1 0 1]\n",
      " [3 3 1 0 0]\n",
      " [3 2 2 0 1]\n",
      " [2 1 1 0 0]]\n",
      "A @ B : \n",
      "  [[2 2 2 0 1]\n",
      " [2 2 1 0 1]\n",
      " [3 3 1 0 0]\n",
      " [3 2 2 0 1]\n",
      " [2 1 1 0 0]]\n"
     ]
    }
   ],
   "source": [
    "A = np.random.randint(2,size = (5,5))\n",
    "B = np.random.randint(2,size = (5,5))\n",
    "\n",
    "print(\"A : \\n \", A)\n",
    "print(\"B : \\n \", B)\n",
    "print(\"A x B : \\n \", A.dot(B))\n",
    "print(\"A @ B : \\n \", A @ B)"
   ]
  },
  {
   "cell_type": "markdown",
   "id": "7bb184c0-8777-46bb-b6b1-41c59316da93",
   "metadata": {},
   "source": [
    "Operadores += , *="
   ]
  },
  {
   "cell_type": "code",
   "execution_count": 103,
   "id": "40ab8332-bd5a-4ee2-857b-f2e1a3d6ad98",
   "metadata": {},
   "outputs": [
    {
     "data": {
      "text/plain": [
       "array([[1, 0, 2, 1, 1],\n",
       "       [2, 0, 0, 1, 1],\n",
       "       [1, 1, 2, 1, 1],\n",
       "       [2, 2, 1, 1, 0],\n",
       "       [1, 2, 1, 0, 0]])"
      ]
     },
     "execution_count": 103,
     "metadata": {},
     "output_type": "execute_result"
    }
   ],
   "source": [
    "A+=B\n",
    "A = A + B\n",
    "A"
   ]
  },
  {
   "cell_type": "code",
   "execution_count": 104,
   "id": "5f259ccd-392c-4022-a9fa-eee5b187c64d",
   "metadata": {},
   "outputs": [
    {
     "data": {
      "text/plain": [
       "array([[0, 0, 2, 0, 1],\n",
       "       [2, 0, 0, 0, 0],\n",
       "       [1, 1, 2, 0, 0],\n",
       "       [2, 2, 0, 0, 0],\n",
       "       [1, 2, 0, 0, 0]])"
      ]
     },
     "execution_count": 104,
     "metadata": {},
     "output_type": "execute_result"
    }
   ],
   "source": [
    "A*=B\n",
    "A"
   ]
  },
  {
   "cell_type": "markdown",
   "id": "6636717c-f4f1-42c1-8954-d32eec1072c8",
   "metadata": {},
   "source": [
    "Las simples asignaciones (creación de una nueva referencia a un objeto numpy) no exsiste.\n",
    "Explicitamente debemos generar una referencia a una copia el objeto con ```np.copy```"
   ]
  },
  {
   "cell_type": "code",
   "execution_count": 204,
   "id": "131423d7-346b-4b06-a79b-068241446038",
   "metadata": {},
   "outputs": [],
   "source": [
    "a = np.zeros(3)\n",
    "\n",
    "b = a\n",
    "\n",
    "a[0]=1\n",
    "\n",
    "b is a\n",
    "\n",
    "b = np.copy(a)\n"
   ]
  },
  {
   "cell_type": "code",
   "execution_count": 208,
   "id": "1832637b-8649-4b0b-9658-c3c630f0eff6",
   "metadata": {},
   "outputs": [
    {
     "data": {
      "text/plain": [
       "array([ 1., 10.,  0.])"
      ]
     },
     "execution_count": 208,
     "metadata": {},
     "output_type": "execute_result"
    }
   ],
   "source": [
    "b is a\n",
    "\n",
    "a[1]=10\n",
    "\n",
    "a"
   ]
  },
  {
   "cell_type": "code",
   "execution_count": 209,
   "id": "44bff698-7e72-4227-a3fc-94382a7e7148",
   "metadata": {},
   "outputs": [
    {
     "data": {
      "text/plain": [
       "array([1., 0., 0.])"
      ]
     },
     "execution_count": 209,
     "metadata": {},
     "output_type": "execute_result"
    }
   ],
   "source": [
    "b"
   ]
  },
  {
   "cell_type": "markdown",
   "id": "af913547-8f10-4575-bf92-b722366b1ffd",
   "metadata": {},
   "source": [
    "Cuando se opera en diferentes tipos, numpy automáticamente escoge el tipo mas general que pueda representar un conjunto de números\n"
   ]
  },
  {
   "cell_type": "code",
   "execution_count": 120,
   "id": "ffad520b-2c16-42ae-985c-b021fda08548",
   "metadata": {},
   "outputs": [],
   "source": [
    "a = np.ones(3, dtype=np.int32)\n",
    "b = np.linspace(0, np.pi, 3)"
   ]
  },
  {
   "cell_type": "code",
   "execution_count": 121,
   "id": "11d71002-e129-4e57-a7e3-366df8194d67",
   "metadata": {},
   "outputs": [
    {
     "data": {
      "text/plain": [
       "array([1, 1, 1], dtype=int32)"
      ]
     },
     "execution_count": 121,
     "metadata": {},
     "output_type": "execute_result"
    }
   ],
   "source": [
    "a"
   ]
  },
  {
   "cell_type": "code",
   "execution_count": 122,
   "id": "5178820f-f016-4d6b-b362-fb2babf62d52",
   "metadata": {},
   "outputs": [
    {
     "data": {
      "text/plain": [
       "array([0.        , 1.57079633, 3.14159265])"
      ]
     },
     "execution_count": 122,
     "metadata": {},
     "output_type": "execute_result"
    }
   ],
   "source": [
    "b"
   ]
  },
  {
   "cell_type": "code",
   "execution_count": 110,
   "id": "b813d5cd-b66f-45ed-b8f5-e016cb36c9d8",
   "metadata": {},
   "outputs": [
    {
     "data": {
      "text/plain": [
       "dtype('int32')"
      ]
     },
     "execution_count": 110,
     "metadata": {},
     "output_type": "execute_result"
    }
   ],
   "source": [
    "a.dtype"
   ]
  },
  {
   "cell_type": "code",
   "execution_count": 111,
   "id": "7ef4061c-d59c-4979-80f2-58b13bac13e8",
   "metadata": {},
   "outputs": [
    {
     "data": {
      "text/plain": [
       "dtype('float64')"
      ]
     },
     "execution_count": 111,
     "metadata": {},
     "output_type": "execute_result"
    }
   ],
   "source": [
    "b.dtype"
   ]
  },
  {
   "cell_type": "code",
   "execution_count": 112,
   "id": "9f79a7f9-c95e-487e-bfe9-8b5969a2931a",
   "metadata": {},
   "outputs": [
    {
     "data": {
      "text/plain": [
       "dtype('float64')"
      ]
     },
     "execution_count": 112,
     "metadata": {},
     "output_type": "execute_result"
    }
   ],
   "source": [
    "(a*b).dtype"
   ]
  },
  {
   "cell_type": "code",
   "execution_count": 123,
   "id": "7e28921c-020a-4097-922e-938b4260f35a",
   "metadata": {},
   "outputs": [],
   "source": []
  },
  {
   "cell_type": "code",
   "execution_count": null,
   "id": "d669e81d-35ab-4cdf-8267-dcfb23084fec",
   "metadata": {},
   "outputs": [],
   "source": []
  },
  {
   "cell_type": "markdown",
   "id": "b3d723aa-9503-43a0-9d78-0450dae57b8b",
   "metadata": {},
   "source": [
    "Indexamiento y rebanadas e iteraciones"
   ]
  },
  {
   "cell_type": "code",
   "execution_count": 211,
   "id": "cc735344-b700-4a2b-8e36-baa406615100",
   "metadata": {},
   "outputs": [
    {
     "data": {
      "text/plain": [
       "array([  0,   1,   8,  27,  64, 125, 216, 343, 512, 729])"
      ]
     },
     "execution_count": 211,
     "metadata": {},
     "output_type": "execute_result"
    }
   ],
   "source": [
    "a = np.arange(10)**3\n",
    "a"
   ]
  },
  {
   "cell_type": "code",
   "execution_count": 126,
   "id": "84613b11-9166-4374-901c-2add1bfb2c94",
   "metadata": {},
   "outputs": [
    {
     "data": {
      "text/plain": [
       "8"
      ]
     },
     "execution_count": 126,
     "metadata": {},
     "output_type": "execute_result"
    }
   ],
   "source": [
    "a[2]"
   ]
  },
  {
   "cell_type": "code",
   "execution_count": 127,
   "id": "23e97ad9-84e8-461f-ac8a-e3545b007a9d",
   "metadata": {},
   "outputs": [
    {
     "data": {
      "text/plain": [
       "array([27, 64])"
      ]
     },
     "execution_count": 127,
     "metadata": {},
     "output_type": "execute_result"
    }
   ],
   "source": [
    "a[3:5]"
   ]
  },
  {
   "cell_type": "code",
   "execution_count": 215,
   "id": "0840fdb9-cb61-4917-913f-35feb33e9eef",
   "metadata": {},
   "outputs": [
    {
     "data": {
      "text/plain": [
       "array([ 50,   1,   8,  50,  64, 125,  50, 343, 512,  50])"
      ]
     },
     "execution_count": 215,
     "metadata": {},
     "output_type": "execute_result"
    }
   ],
   "source": [
    "a[:5:3] = 50\n",
    "a"
   ]
  },
  {
   "cell_type": "code",
   "execution_count": 133,
   "id": "ffd3c4f5-b356-45de-8bbe-21f7c28f9e4c",
   "metadata": {},
   "outputs": [
    {
     "name": "stdout",
     "output_type": "stream",
     "text": [
      "[0 1 2 3 4 5 6 7 8 9]\n",
      "reverse :  [9 8 7 6 5 4 3 2 1 0]\n"
     ]
    }
   ],
   "source": [
    "a = np.arange(10)\n",
    "print(a)\n",
    "\n",
    "print(\"reverse : \", a[::-1] )"
   ]
  },
  {
   "cell_type": "code",
   "execution_count": 243,
   "id": "7b4a1d1c-36ca-44fc-845e-98fef9ce9602",
   "metadata": {},
   "outputs": [
    {
     "data": {
      "text/plain": [
       "array([[  0,  10,  40,  90, 160],\n",
       "       [  1,  11,  41,  91, 161],\n",
       "       [  4,  14,  44,  94, 164],\n",
       "       [  9,  19,  49,  99, 169],\n",
       "       [ 16,  26,  56, 106, 176]])"
      ]
     },
     "execution_count": 243,
     "metadata": {},
     "output_type": "execute_result"
    }
   ],
   "source": [
    "#generación de números dada una función\n",
    "\n",
    "def f(x,y):\n",
    "    return x**2+10*y**2\n",
    "\n",
    "b = np.fromfunction(f, (5, 5), dtype=int)\n",
    "b"
   ]
  },
  {
   "cell_type": "code",
   "execution_count": 244,
   "id": "1965b98d-ceaa-4acf-837e-d26691a4ab93",
   "metadata": {},
   "outputs": [
    {
     "data": {
      "text/plain": [
       "array([  0,  10,  40,  90, 160])"
      ]
     },
     "execution_count": 244,
     "metadata": {},
     "output_type": "execute_result"
    }
   ],
   "source": [
    "#rebanadas (slices)\n",
    "\n",
    "#tomar la primera fila \n",
    "\n",
    "b[0,:]\n"
   ]
  },
  {
   "cell_type": "code",
   "execution_count": 145,
   "id": "1865a483-fcb5-40a5-b581-5865d278a6f0",
   "metadata": {},
   "outputs": [
    {
     "data": {
      "text/plain": [
       "array([  0,  10,  40,  90, 160])"
      ]
     },
     "execution_count": 145,
     "metadata": {},
     "output_type": "execute_result"
    }
   ],
   "source": [
    "b[0]"
   ]
  },
  {
   "cell_type": "code",
   "execution_count": 247,
   "id": "e0496a0c-522a-46b0-b6f2-27b066ce40ce",
   "metadata": {},
   "outputs": [
    {
     "data": {
      "text/plain": [
       "array([ 0, 40])"
      ]
     },
     "execution_count": 247,
     "metadata": {},
     "output_type": "execute_result"
    }
   ],
   "source": [
    "# recorrido de la fila 0 desde el primer elemento hasta el tercero de dos en dos\n",
    "\n",
    "b[0,:3:2]"
   ]
  },
  {
   "cell_type": "code",
   "execution_count": 150,
   "id": "89e02710-ba51-460a-b72c-527eef18b9ad",
   "metadata": {},
   "outputs": [
    {
     "data": {
      "text/plain": [
       "array([  1,  11,  41,  91, 161])"
      ]
     },
     "execution_count": 150,
     "metadata": {},
     "output_type": "execute_result"
    }
   ],
   "source": [
    "# mostrar la 4 fila a partir de la última\n",
    "b[-4,:]"
   ]
  },
  {
   "cell_type": "markdown",
   "id": "fa9ddb89-4d3f-442e-b24e-d8c89fc4edb0",
   "metadata": {},
   "source": [
    "## Manipulación de dimensiones matriciales"
   ]
  },
  {
   "cell_type": "code",
   "execution_count": 154,
   "id": "f5913ae1-8055-4644-8c64-8a700e6fcbd8",
   "metadata": {},
   "outputs": [],
   "source": [
    "# aplanar matriz"
   ]
  },
  {
   "cell_type": "code",
   "execution_count": 155,
   "id": "e891c280-032b-4e3e-9374-6254825efc17",
   "metadata": {},
   "outputs": [],
   "source": [
    "b_new = b.flatten()"
   ]
  },
  {
   "cell_type": "code",
   "execution_count": null,
   "id": "71728041-79ba-4d28-9753-306fadf4d5fe",
   "metadata": {},
   "outputs": [],
   "source": [
    "# devovler las dimensiones originales"
   ]
  },
  {
   "cell_type": "code",
   "execution_count": 157,
   "id": "0d209638-385e-46f0-b472-d47d8f88020e",
   "metadata": {},
   "outputs": [
    {
     "data": {
      "text/plain": [
       "array([[  0,  10,  40,  90, 160],\n",
       "       [  1,  11,  41,  91, 161],\n",
       "       [  4,  14,  44,  94, 164],\n",
       "       [  9,  19,  49,  99, 169],\n",
       "       [ 16,  26,  56, 106, 176]])"
      ]
     },
     "execution_count": 157,
     "metadata": {},
     "output_type": "execute_result"
    }
   ],
   "source": [
    "b_new.reshape((5,5))"
   ]
  },
  {
   "cell_type": "code",
   "execution_count": null,
   "id": "0799a080-aff6-414b-a610-b9a6d24d49bd",
   "metadata": {},
   "outputs": [],
   "source": [
    "# u otras nuevas"
   ]
  },
  {
   "cell_type": "code",
   "execution_count": 159,
   "id": "660a9fec-8c8b-4b67-a291-a233e3efebb1",
   "metadata": {},
   "outputs": [
    {
     "data": {
      "text/plain": [
       "array([[  0,  10,  40,  90, 160,   1,  11,  41,  91, 161,   4,  14,  44,\n",
       "         94, 164,   9,  19,  49,  99, 169,  16,  26,  56, 106, 176]])"
      ]
     },
     "execution_count": 159,
     "metadata": {},
     "output_type": "execute_result"
    }
   ],
   "source": [
    "b_new.reshape((1,25))"
   ]
  },
  {
   "cell_type": "code",
   "execution_count": 164,
   "id": "f0df7f40-6328-4e4e-b2ea-6a07cc3b612b",
   "metadata": {},
   "outputs": [
    {
     "data": {
      "text/plain": [
       "array([[  0,  10,  40,  90, 160],\n",
       "       [  1,  11,  41,  91, 161],\n",
       "       [  4,  14,  44,  94, 164],\n",
       "       [  9,  19,  49,  99, 169],\n",
       "       [ 16,  26,  56, 106, 176]])"
      ]
     },
     "execution_count": 164,
     "metadata": {},
     "output_type": "execute_result"
    }
   ],
   "source": [
    "# -1 significa que esta dimensión es automaticamente calculada para \n",
    "# considerar todos los valores de la matriz\n",
    "b_new.reshape((5,-1))"
   ]
  },
  {
   "cell_type": "markdown",
   "id": "dd147ba5-cb38-4af9-b59a-3d4eb7a07a02",
   "metadata": {},
   "source": [
    "## Apilando arreglos\n"
   ]
  },
  {
   "cell_type": "code",
   "execution_count": 172,
   "id": "e1376dbb-f3f3-4816-bb4d-5c2426259d2d",
   "metadata": {},
   "outputs": [
    {
     "name": "stdout",
     "output_type": "stream",
     "text": [
      "a :  [[8. 2.]\n",
      " [2. 6.]]\n",
      "b :  [[8. 9.]\n",
      " [1. 4.]]\n",
      "(a,b) apiladas verticalmente :  [[8. 2.]\n",
      " [2. 6.]\n",
      " [8. 9.]\n",
      " [1. 4.]]\n"
     ]
    }
   ],
   "source": [
    "a = np.floor(10 * rg.random((2, 2)))\n",
    "b = np.floor(10 * rg.random((2, 2)))\n",
    "print(\"a : \",a)\n",
    "print(\"b : \",b)\n",
    "print(\"(a,b) apiladas verticalmente : \", np.vstack((a,b)))"
   ]
  },
  {
   "cell_type": "markdown",
   "id": "9cdce845-dda3-4e87-bc51-ebb653b7adb0",
   "metadata": {},
   "source": [
    "## Otras funciones importantes \n",
    "\n"
   ]
  },
  {
   "cell_type": "code",
   "execution_count": 217,
   "id": "14b30871-ca0a-41ca-8478-a055f9a9ae2f",
   "metadata": {},
   "outputs": [
    {
     "name": "stdout",
     "output_type": "stream",
     "text": [
      "a: [  0   1   4   9  16  25  36  49  64  81 100 121]\n",
      "Seleccionando los valores de la posicion 1,3 y 4 :  [ 1  9 16]\n"
     ]
    }
   ],
   "source": [
    "# indexamiento con arreglos de indices\n",
    "\n",
    "a = np.arange(12)**2 \n",
    "print(\"a:\",a)\n",
    "print(\"Seleccionando los valores de la posicion 1,3 y 4 : \", a[[1,3,4]])"
   ]
  },
  {
   "cell_type": "markdown",
   "id": "c0c5bced-4b9e-46f0-a711-71e91194a5c1",
   "metadata": {},
   "source": [
    "Indexamiento con tipos booleanos\n",
    "\n"
   ]
  },
  {
   "cell_type": "code",
   "execution_count": 218,
   "id": "929b9912-9bbf-4e70-be3a-ed07e04316f3",
   "metadata": {},
   "outputs": [
    {
     "data": {
      "text/plain": [
       "array([[ 0,  1,  2,  3],\n",
       "       [ 4,  5,  6,  7],\n",
       "       [ 8,  9, 10, 11]])"
      ]
     },
     "execution_count": 218,
     "metadata": {},
     "output_type": "execute_result"
    }
   ],
   "source": [
    "a = np.arange(12).reshape(3, 4)\n",
    "a"
   ]
  },
  {
   "cell_type": "code",
   "execution_count": 221,
   "id": "b4170c61-b241-46f6-932a-d761a7f51213",
   "metadata": {},
   "outputs": [
    {
     "data": {
      "text/plain": [
       "array([ 6,  7,  8,  9, 10, 11])"
      ]
     },
     "execution_count": 221,
     "metadata": {},
     "output_type": "execute_result"
    }
   ],
   "source": [
    "ix = a>5\n",
    "ix\n",
    "\n",
    "a[ix]"
   ]
  },
  {
   "cell_type": "code",
   "execution_count": 222,
   "id": "a7b2d06f-3c3e-4957-a8b3-4867d7675277",
   "metadata": {},
   "outputs": [],
   "source": [
    "a[a<5]=-1"
   ]
  },
  {
   "cell_type": "code",
   "execution_count": 223,
   "id": "de56c496-9ed5-446d-b302-7997ad968822",
   "metadata": {},
   "outputs": [
    {
     "data": {
      "text/plain": [
       "array([[-1, -1, -1, -1],\n",
       "       [-1,  5,  6,  7],\n",
       "       [ 8,  9, 10, 11]])"
      ]
     },
     "execution_count": 223,
     "metadata": {},
     "output_type": "execute_result"
    }
   ],
   "source": [
    "a"
   ]
  },
  {
   "cell_type": "markdown",
   "id": "071ef53e-c524-4527-83a2-04529378aa37",
   "metadata": {},
   "source": [
    "Bibliografía\n",
    "\n",
    "[Numpy Quickstart](https://numpy.org/doc/stable/user/quickstart.html)\n",
    "[Introducción a Numpy]  (https://aprendeconalf.es/docencia/python/manual/numpy/)\n"
   ]
  },
  {
   "cell_type": "code",
   "execution_count": 234,
   "id": "4eab85e6-3e07-4e87-840e-5a074c452474",
   "metadata": {},
   "outputs": [],
   "source": [
    "a = np.arange(10)\n",
    "\n"
   ]
  },
  {
   "cell_type": "code",
   "execution_count": null,
   "id": "cc18bfa1-feb7-4608-be98-fcdb069ef6b4",
   "metadata": {},
   "outputs": [],
   "source": [
    "\n"
   ]
  },
  {
   "cell_type": "code",
   "execution_count": 240,
   "id": "d4959b1c-d91d-49f2-ae30-3dd906a5baa2",
   "metadata": {},
   "outputs": [],
   "source": [
    "a[:6:3] = 90"
   ]
  },
  {
   "cell_type": "code",
   "execution_count": null,
   "id": "92c91cdc-64ae-48d3-8ce8-830764d903b9",
   "metadata": {},
   "outputs": [],
   "source": []
  },
  {
   "cell_type": "code",
   "execution_count": null,
   "id": "c5f4204b-afa9-4a97-8767-0e727745fbf2",
   "metadata": {},
   "outputs": [],
   "source": []
  }
 ],
 "metadata": {
  "kernelspec": {
   "display_name": "Python 3",
   "language": "python",
   "name": "python3"
  },
  "language_info": {
   "codemirror_mode": {
    "name": "ipython",
    "version": 3
   },
   "file_extension": ".py",
   "mimetype": "text/x-python",
   "name": "python",
   "nbconvert_exporter": "python",
   "pygments_lexer": "ipython3",
   "version": "3.8.13"
  }
 },
 "nbformat": 4,
 "nbformat_minor": 5
}
