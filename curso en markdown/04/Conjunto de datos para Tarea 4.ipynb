{
 "cells": [
  {
   "cell_type": "markdown",
   "metadata": {
    "id": "zX-ED_nBIDS4"
   },
   "source": [
    " \n",
    "\n",
    "# Conjunto de Datos de la Tarea 4\n",
    "\n",
    "### Conjunto de datos para el ejercicio 1."
   ]
  },
  {
   "cell_type": "code",
   "execution_count": 1,
   "metadata": {
    "executionInfo": {
     "elapsed": 237,
     "status": "ok",
     "timestamp": 1655930336393,
     "user": {
      "displayName": "Rodrigo Lopez-Farias",
      "userId": "15480361823187274518"
     },
     "user_tz": 300
    },
    "id": "a7K8PRgEIDS6"
   },
   "outputs": [],
   "source": [
    "import numpy as np\n",
    "import pandas as pd\n",
    "import matplotlib.pyplot as plt"
   ]
  },
  {
   "cell_type": "code",
   "execution_count": 2,
   "metadata": {
    "colab": {
     "base_uri": "https://localhost:8080/",
     "height": 407
    },
    "executionInfo": {
     "elapsed": 5,
     "status": "error",
     "timestamp": 1655930271674,
     "user": {
      "displayName": "Rodrigo Lopez-Farias",
      "userId": "15480361823187274518"
     },
     "user_tz": 300
    },
    "id": "CXKe08mUIDS7",
    "outputId": "6020867d-a197-4276-f5d6-2315d87e27e9"
   },
   "outputs": [
    {
     "data": {
      "image/png": "[encoded data removed]",
      "text/plain": [
       "<Figure size 432x288 with 1 Axes>"
      ]
     },
     "metadata": {
      "needs_background": "light"
     },
     "output_type": "display_data"
    }
   ],
   "source": [
    "dataset = pd.read_csv(\"entrenamiento_linealRegression.csv\")\n",
    "X = dataset[\"X\"]\n",
    "Y = dataset[\"Y\"]\n",
    "fig, ax = plt.subplots()\n",
    "ax.scatter(X, Y, s=80, facecolors='none', edgecolors='r')\n",
    "plt.show()"
   ]
  },
  {
   "cell_type": "code",
   "execution_count": 3,
   "metadata": {},
   "outputs": [
    {
     "data": {
      "text/html": [
       "<div>\n",
       "<style scoped>\n",
       "    .dataframe tbody tr th:only-of-type {\n",
       "        vertical-align: middle;\n",
       "    }\n",
       "\n",
       "    .dataframe tbody tr th {\n",
       "        vertical-align: top;\n",
       "    }\n",
       "\n",
       "    .dataframe thead th {\n",
       "        text-align: right;\n",
       "    }\n",
       "</style>\n",
       "<table border=\"1\" class=\"dataframe\">\n",
       "  <thead>\n",
       "    <tr style=\"text-align: right;\">\n",
       "      <th></th>\n",
       "      <th>Unnamed: 0</th>\n",
       "      <th>X</th>\n",
       "      <th>Y</th>\n",
       "    </tr>\n",
       "  </thead>\n",
       "  <tbody>\n",
       "    <tr>\n",
       "      <th>0</th>\n",
       "      <td>0</td>\n",
       "      <td>321.928514</td>\n",
       "      <td>4940.493381</td>\n",
       "    </tr>\n",
       "    <tr>\n",
       "      <th>1</th>\n",
       "      <td>1</td>\n",
       "      <td>27.036363</td>\n",
       "      <td>-477.251496</td>\n",
       "    </tr>\n",
       "    <tr>\n",
       "      <th>2</th>\n",
       "      <td>2</td>\n",
       "      <td>246.572103</td>\n",
       "      <td>4729.803400</td>\n",
       "    </tr>\n",
       "    <tr>\n",
       "      <th>3</th>\n",
       "      <td>3</td>\n",
       "      <td>60.695158</td>\n",
       "      <td>1609.037416</td>\n",
       "    </tr>\n",
       "    <tr>\n",
       "      <th>4</th>\n",
       "      <td>4</td>\n",
       "      <td>145.733310</td>\n",
       "      <td>3121.435281</td>\n",
       "    </tr>\n",
       "    <tr>\n",
       "      <th>...</th>\n",
       "      <td>...</td>\n",
       "      <td>...</td>\n",
       "      <td>...</td>\n",
       "    </tr>\n",
       "    <tr>\n",
       "      <th>95</th>\n",
       "      <td>95</td>\n",
       "      <td>202.535408</td>\n",
       "      <td>1747.448490</td>\n",
       "    </tr>\n",
       "    <tr>\n",
       "      <th>96</th>\n",
       "      <td>96</td>\n",
       "      <td>642.065989</td>\n",
       "      <td>13580.354599</td>\n",
       "    </tr>\n",
       "    <tr>\n",
       "      <th>97</th>\n",
       "      <td>97</td>\n",
       "      <td>756.970706</td>\n",
       "      <td>15372.129170</td>\n",
       "    </tr>\n",
       "    <tr>\n",
       "      <th>98</th>\n",
       "      <td>98</td>\n",
       "      <td>921.851602</td>\n",
       "      <td>17484.133493</td>\n",
       "    </tr>\n",
       "    <tr>\n",
       "      <th>99</th>\n",
       "      <td>99</td>\n",
       "      <td>13.755757</td>\n",
       "      <td>-837.411144</td>\n",
       "    </tr>\n",
       "  </tbody>\n",
       "</table>\n",
       "<p>100 rows × 3 columns</p>\n",
       "</div>"
      ],
      "text/plain": [
       "    Unnamed: 0           X             Y\n",
       "0            0  321.928514   4940.493381\n",
       "1            1   27.036363   -477.251496\n",
       "2            2  246.572103   4729.803400\n",
       "3            3   60.695158   1609.037416\n",
       "4            4  145.733310   3121.435281\n",
       "..         ...         ...           ...\n",
       "95          95  202.535408   1747.448490\n",
       "96          96  642.065989  13580.354599\n",
       "97          97  756.970706  15372.129170\n",
       "98          98  921.851602  17484.133493\n",
       "99          99   13.755757   -837.411144\n",
       "\n",
       "[100 rows x 3 columns]"
      ]
     },
     "execution_count": 3,
     "metadata": {},
     "output_type": "execute_result"
    }
   ],
   "source": [
    "dataset"
   ]
  },
  {
   "cell_type": "markdown",
   "metadata": {},
   "source": [
    "$\\frac{\\partial C (\\theta)}{w} = \\sum_{i=1}^N(wx_i+b-y_i)x_i$   \n",
    "$\\frac{\\partial C (\\theta)}{b} = \\sum_{i=1}^N(wx_i+b-y_i)1$"
   ]
  },
  {
   "cell_type": "code",
   "execution_count": 4,
   "metadata": {},
   "outputs": [],
   "source": [
    "w=10\n",
    "b=10\n",
    "\n",
    "w = 18.5\n",
    "b = 200"
   ]
  },
  {
   "cell_type": "code",
   "execution_count": 5,
   "metadata": {},
   "outputs": [
    {
     "ename": "NameError",
     "evalue": "name 'theta' is not defined",
     "output_type": "error",
     "traceback": [
      "\u001b[0;31m---------------------------------------------------------------------------\u001b[0m",
      "\u001b[0;31mNameError\u001b[0m                                 Traceback (most recent call last)",
      "Input \u001b[0;32mIn [5]\u001b[0m, in \u001b[0;36m<cell line: 1>\u001b[0;34m()\u001b[0m\n\u001b[0;32m----> 1\u001b[0m w \u001b[38;5;241m=\u001b[39m \u001b[43mtheta\u001b[49m[\u001b[38;5;241m0\u001b[39m]\n\u001b[1;32m      2\u001b[0m b \u001b[38;5;241m=\u001b[39m theta[\u001b[38;5;241m1\u001b[39m]\n",
      "\u001b[0;31mNameError\u001b[0m: name 'theta' is not defined"
     ]
    }
   ],
   "source": [
    "w = theta[0]\n",
    "b = theta[1]\n"
   ]
  },
  {
   "cell_type": "code",
   "execution_count": null,
   "metadata": {},
   "outputs": [],
   "source": [
    "plt.scatter(X, Y, s=80, facecolors='none', edgecolors='r')\n",
    "plt.scatter(X,X*w+b)\n",
    "plt.show()"
   ]
  },
  {
   "cell_type": "code",
   "execution_count": null,
   "metadata": {},
   "outputs": [],
   "source": []
  },
  {
   "cell_type": "code",
   "execution_count": 217,
   "metadata": {},
   "outputs": [],
   "source": [
    "\n",
    "theta = np.array([w,b])\n",
    "\n",
    "dw = np.mean(((X*w+b)-Y)*X*2)\n",
    "db = np.mean(((X*w+b)-Y)*2)\n",
    "\n",
    "\n",
    "#w = w-0.000001*dw\n",
    "#b = b-0.000001*db\n",
    "\n"
   ]
  },
  {
   "cell_type": "code",
   "execution_count": 218,
   "metadata": {},
   "outputs": [
    {
     "data": {
      "text/plain": [
       "array([-7.39208059e+04,  3.65428964e+01])"
      ]
     },
     "execution_count": 218,
     "metadata": {},
     "output_type": "execute_result"
    }
   ],
   "source": [
    "gC([w,b])"
   ]
  },
  {
   "cell_type": "code",
   "execution_count": 219,
   "metadata": {},
   "outputs": [],
   "source": [
    "\n",
    "\n",
    "yhat = w*X+b"
   ]
  },
  {
   "cell_type": "code",
   "execution_count": null,
   "metadata": {},
   "outputs": [],
   "source": []
  },
  {
   "cell_type": "code",
   "execution_count": 220,
   "metadata": {},
   "outputs": [
    {
     "name": "stdout",
     "output_type": "stream",
     "text": [
      "5246.9433960424285 18.012046940556644\n"
     ]
    }
   ],
   "source": [
    "dw1 = 0\n",
    "db1 = 0\n",
    "w=10\n",
    "b=10\n",
    "for j in range(len(X)):\n",
    "    dw1 = dw1 + 2*(w*X[j]+b-Y[j])*X[j]\n",
    "    db1 = db1 + 2*(X[j]*w+b-Y[j])\n",
    "print(w-eps*dw1/len(X),b-eps*db1/len(X))"
   ]
  },
  {
   "cell_type": "code",
   "execution_count": null,
   "metadata": {},
   "outputs": [],
   "source": []
  },
  {
   "cell_type": "code",
   "execution_count": 221,
   "metadata": {},
   "outputs": [],
   "source": [
    "def gC(theta,X=X,Y=Y):\n",
    "    w = theta[0]\n",
    "    b = theta[1]\n",
    "    \n",
    "    yhat = w*X+b\n",
    "    \n",
    "    dw = np.mean(2*(yhat-Y)*X)\n",
    "    db = np.mean(2*(yhat-Y))\n",
    "    \n",
    "    return np.array([dw,db])"
   ]
  },
  {
   "cell_type": "code",
   "execution_count": 222,
   "metadata": {},
   "outputs": [
    {
     "data": {
      "text/plain": [
       "array([10, 10])"
      ]
     },
     "execution_count": 222,
     "metadata": {},
     "output_type": "execute_result"
    }
   ],
   "source": [
    "theta = np.array([w,b])\n",
    "theta"
   ]
  },
  {
   "cell_type": "code",
   "execution_count": 223,
   "metadata": {},
   "outputs": [
    {
     "data": {
      "text/plain": [
       "array([5246.94339604,   18.01204694])"
      ]
     },
     "execution_count": 223,
     "metadata": {},
     "output_type": "execute_result"
    }
   ],
   "source": [
    "G = gC([w,b])\n",
    "eps=0.001\n",
    "theta-eps*G"
   ]
  },
  {
   "cell_type": "code",
   "execution_count": 292,
   "metadata": {},
   "outputs": [
    {
     "name": "stdout",
     "output_type": "stream",
     "text": [
      "[10 20]\n"
     ]
    }
   ],
   "source": [
    "#probando funcion del vector gradiente compuesto por las derivadas parciales.\n",
    "\n",
    "w = 10\n",
    "b = 20\n",
    "\n",
    "theta = np.array([w,b])\n",
    "sw=list(theta)\n",
    "eps = 0.000002\n",
    "\n",
    "for i in range(10000):\n",
    "    if (i%10000==0):\n",
    "        print(theta)\n",
    "        \n",
    "    \n",
    "    G = gC(theta)\n",
    "    theta = theta-eps*G\n",
    "    sw.append(theta)\n"
   ]
  },
  {
   "cell_type": "code",
   "execution_count": 293,
   "metadata": {},
   "outputs": [
    {
     "data": {
      "text/plain": [
       "array([18.90359829, 19.22651182])"
      ]
     },
     "execution_count": 293,
     "metadata": {},
     "output_type": "execute_result"
    }
   ],
   "source": [
    "theta"
   ]
  },
  {
   "cell_type": "code",
   "execution_count": 226,
   "metadata": {},
   "outputs": [],
   "source": [
    "X = np.arange(np.min(X),np.max(X))\n"
   ]
  },
  {
   "cell_type": "markdown",
   "metadata": {
    "id": "adgxIJQYIDS7"
   },
   "source": [
    "### Conjunto de datos para el ejercicio 2."
   ]
  },
  {
   "cell_type": "code",
   "execution_count": 300,
   "metadata": {
    "id": "nc_uMU3lIDS8",
    "outputId": "d044701d-8c10-496c-b755-91f7fbc57ce7"
   },
   "outputs": [
    {
     "data": {
      "image/png": "[encoded data removed]",
      "text/plain": [
       "<Figure size 432x288 with 1 Axes>"
      ]
     },
     "metadata": {
      "needs_background": "light"
     },
     "output_type": "display_data"
    }
   ],
   "source": [
    "df = pd.read_csv(\"entrenamiento_logisticRegression_withoutbias.csv\")\n",
    "\n",
    "class00 = df.iloc[:100,1:4]\n",
    "class01 = df.iloc[100:,1:4]\n",
    "\n",
    "plt.scatter(class00.iloc[:,0],class00.iloc[:,1])\n",
    "\n",
    "plt.scatter(class01.iloc[:,0],class01.iloc[:,1])\n",
    "\n",
    "plt.show()"
   ]
  },
  {
   "cell_type": "code",
   "execution_count": 316,
   "metadata": {},
   "outputs": [],
   "source": [
    "class11 = np.array(df.iloc[:,1:4])"
   ]
  },
  {
   "cell_type": "code",
   "execution_count": 341,
   "metadata": {},
   "outputs": [],
   "source": [
    "param = [-1,2]"
   ]
  },
  {
   "cell_type": "code",
   "execution_count": 342,
   "metadata": {},
   "outputs": [
    {
     "data": {
      "text/plain": [
       "<matplotlib.collections.PathCollection at 0x7fbadb1c4d30>"
      ]
     },
     "execution_count": 342,
     "metadata": {},
     "output_type": "execute_result"
    },
    {
     "data": {
      "image/png": "[encoded data removed]",
      "text/plain": [
       "<Figure size 432x288 with 1 Axes>"
      ]
     },
     "metadata": {
      "needs_background": "light"
     },
     "output_type": "display_data"
    }
   ],
   "source": [
    "y = np.arange(-10,10)*param[0]/-param[1]\n",
    "\n",
    "plt.plot(np.arange(-10,10),y)\n",
    "plt.scatter(class00.iloc[:,0],class00.iloc[:,1])\n",
    "plt.scatter(class01.iloc[:,0],class01.iloc[:,1])"
   ]
  },
  {
   "cell_type": "code",
   "execution_count": 343,
   "metadata": {},
   "outputs": [],
   "source": [
    "bias = 0\n",
    "n = 0.01\n",
    "sigm = lambda x: 1/(1 + np.exp(-x))\n",
    "\n",
    "\n",
    "#inicializar parametros theta\n",
    "\n",
    "m = len(param)\n",
    "labeled_classes = class11\n",
    "\n",
    "#repetir varias veces\n",
    "for k in range(1000):\n",
    "    \n",
    "    #inicializar gradiente\n",
    "    g = np.zeros(m)\n",
    "\n",
    "    #por cada tupla (x,y)\n",
    "    for v in labeled_classes:\n",
    "#        s = 0\n",
    "        x = v[:2]\n",
    "        y = v[2]\n",
    "        \n",
    "        # por cada parametro\n",
    "        for j in np.arange(m):\n",
    "            line = np.matmul(param,x)\n",
    "            g[j] += (y-sigm(line))*x[j]\n",
    "        # calcular la derivada parcial con respecto al bias aqui\n",
    "            \n",
    "    param += n*g"
   ]
  },
  {
   "cell_type": "code",
   "execution_count": 344,
   "metadata": {},
   "outputs": [
    {
     "data": {
      "text/plain": [
       "<matplotlib.collections.PathCollection at 0x7fbacf4149a0>"
      ]
     },
     "execution_count": 344,
     "metadata": {},
     "output_type": "execute_result"
    },
    {
     "data": {
      "image/png": "[encoded data removed]",
      "text/plain": [
       "<Figure size 432x288 with 1 Axes>"
      ]
     },
     "metadata": {
      "needs_background": "light"
     },
     "output_type": "display_data"
    }
   ],
   "source": [
    "y = np.arange(-10,10)*param[0]/-param[1]\n",
    "\n",
    "plt.plot(np.arange(-10,10),y)\n",
    "plt.scatter(class00.iloc[:,0],class00.iloc[:,1])\n",
    "plt.scatter(class01.iloc[:,0],class01.iloc[:,1])"
   ]
  },
  {
   "cell_type": "code",
   "execution_count": null,
   "metadata": {},
   "outputs": [],
   "source": [
    "def gC(theta,X=X,Y=Y):\n",
    "    w = theta[0]\n",
    "    b = theta[1]\n",
    "    \n",
    "    yhat = w*X+b\n",
    "    \n",
    "    dw = np.mean(2*(yhat-Y)*X)\n",
    "    db = np.mean(2*(yhat-Y))\n",
    "    \n",
    "    return np.array([dw,db])"
   ]
  },
  {
   "cell_type": "code",
   "execution_count": null,
   "metadata": {
    "id": "wlTHzVS1IDS8"
   },
   "outputs": [],
   "source": []
  }
 ],
 "metadata": {
  "colab": {
   "name": "Conjunto de datos para Tarea 4.ipynb",
   "provenance": []
  },
  "kernelspec": {
   "display_name": "Python 3 (ipykernel)",
   "language": "python",
   "name": "python3"
  },
  "language_info": {
   "codemirror_mode": {
    "name": "ipython",
    "version": 3
   },
   "file_extension": ".py",
   "mimetype": "text/x-python",
   "name": "python",
   "nbconvert_exporter": "python",
   "pygments_lexer": "ipython3",
   "version": "3.8.13"
  }
 },
 "nbformat": 4,
 "nbformat_minor": 4
}
