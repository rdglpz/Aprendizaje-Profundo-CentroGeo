{
 "cells": [
  {
   "cell_type": "markdown",
   "id": "ad790699-cd07-468c-8207-e57a05d97800",
   "metadata": {},
   "source": [
    "# 2. Python para Cómputo Científico.\n",
    "Introducción a la librería NumPy\n",
    "\n",
    "* Es una librería fundamental para el cómputo numérico.\n",
    "* Incluye potentes funciones de algebra lineal, numeros pseudo aleatorios, cómputo matricial etc...\n",
    "* Es mas rápido que la librería estándar de Python para la manipulación y operaciones matriciales en álgebra lineal.\n",
    "* Es utilizado para cómputo científico.\n",
    "* Tiene herramientas para intergrr otros lenguajes como C, C++, Fortran "
   ]
  },
  {
   "cell_type": "markdown",
   "id": "d7cd505f-29ac-49a7-9cb6-c90403077512",
   "metadata": {},
   "source": [
    "Para importar la librería numpy hacemos."
   ]
  },
  {
   "cell_type": "code",
   "execution_count": 5,
   "id": "edc77382-00ec-41b3-bd4b-3d61f3e3ae1e",
   "metadata": {},
   "outputs": [],
   "source": [
    "import numpy as np"
   ]
  },
  {
   "cell_type": "markdown",
   "id": "dbddcd4b-ce38-4a7e-bde6-a19996fa3d14",
   "metadata": {},
   "source": [
    "Una clase fundamental de Numpy es la clase ```array```"
   ]
  },
  {
   "cell_type": "code",
   "execution_count": 8,
   "id": "7f13713e-4198-4c2b-9426-fd6cabd7af3b",
   "metadata": {},
   "outputs": [
    {
     "data": {
      "text/plain": [
       "array([0, 1, 2, 3, 4])"
      ]
     },
     "execution_count": 8,
     "metadata": {},
     "output_type": "execute_result"
    }
   ],
   "source": [
    "#crear un arreglo unidimensional a partir de una lista de python\n",
    "L = range(5)\n",
    "\n",
    "np.array(L)"
   ]
  },
  {
   "cell_type": "code",
   "execution_count": 11,
   "id": "d24cd18a-e402-4208-82f3-583800fd9d22",
   "metadata": {},
   "outputs": [
    {
     "data": {
      "text/plain": [
       "array([[0, 1, 2, 3, 4],\n",
       "       [0, 1, 2, 3, 4],\n",
       "       [0, 1, 2, 3, 4],\n",
       "       [0, 1, 2, 3, 4],\n",
       "       [0, 1, 2, 3, 4]])"
      ]
     },
     "execution_count": 11,
     "metadata": {},
     "output_type": "execute_result"
    }
   ],
   "source": [
    "L = [[i for i in range(5)] for j in range(5)]\n",
    "\n",
    "np.array(L)"
   ]
  },
  {
   "cell_type": "code",
   "execution_count": 22,
   "id": "956ff153-0737-42e2-b813-453439bf0d8a",
   "metadata": {},
   "outputs": [
    {
     "name": "stdout",
     "output_type": "stream",
     "text": [
      "verificando dimensiones: (3, 4, 5)\n",
      "[[[0 0 0 0 0]\n",
      "  [0 0 0 0 0]\n",
      "  [0 0 0 0 0]\n",
      "  [0 0 0 0 0]]\n",
      "\n",
      " [[0 0 0 0 0]\n",
      "  [0 0 0 0 0]\n",
      "  [0 0 0 0 0]\n",
      "  [0 0 0 0 0]]\n",
      "\n",
      " [[0 0 0 0 0]\n",
      "  [0 0 0 0 0]\n",
      "  [0 0 0 0 0]\n",
      "  [0 0 0 0 0]]]\n"
     ]
    }
   ],
   "source": [
    "L = [[[0 for i in range(5)] for j in range(4)] for k in range(3)]\n",
    "\n",
    "print(\"verificando dimensiones:\",np.array(L).shape)\n",
    "print(np.array(L))"
   ]
  },
  {
   "cell_type": "markdown",
   "id": "418e281d-e51c-486f-b6ac-4b771e3f1959",
   "metadata": {},
   "source": [
    "Numpy nos facilita la tarea de generar matrices"
   ]
  },
  {
   "cell_type": "code",
   "execution_count": 29,
   "id": "0fed20f5-14cf-4583-9b5c-727187a41a09",
   "metadata": {},
   "outputs": [
    {
     "data": {
      "text/plain": [
       "array([[[1., 1., 1., 1., 1.],\n",
       "        [1., 1., 1., 1., 1.],\n",
       "        [1., 1., 1., 1., 1.],\n",
       "        [1., 1., 1., 1., 1.]],\n",
       "\n",
       "       [[1., 1., 1., 1., 1.],\n",
       "        [1., 1., 1., 1., 1.],\n",
       "        [1., 1., 1., 1., 1.],\n",
       "        [1., 1., 1., 1., 1.]],\n",
       "\n",
       "       [[1., 1., 1., 1., 1.],\n",
       "        [1., 1., 1., 1., 1.],\n",
       "        [1., 1., 1., 1., 1.],\n",
       "        [1., 1., 1., 1., 1.]]])"
      ]
     },
     "execution_count": 29,
     "metadata": {},
     "output_type": "execute_result"
    }
   ],
   "source": [
    "np.empty((3,4,5))"
   ]
  },
  {
   "cell_type": "code",
   "execution_count": 30,
   "id": "eeb2de5b-3ffe-4194-8e4a-6b129b3f11fc",
   "metadata": {},
   "outputs": [
    {
     "data": {
      "text/plain": [
       "array([[[1., 1., 1., 1., 1.],\n",
       "        [1., 1., 1., 1., 1.],\n",
       "        [1., 1., 1., 1., 1.],\n",
       "        [1., 1., 1., 1., 1.]],\n",
       "\n",
       "       [[1., 1., 1., 1., 1.],\n",
       "        [1., 1., 1., 1., 1.],\n",
       "        [1., 1., 1., 1., 1.],\n",
       "        [1., 1., 1., 1., 1.]],\n",
       "\n",
       "       [[1., 1., 1., 1., 1.],\n",
       "        [1., 1., 1., 1., 1.],\n",
       "        [1., 1., 1., 1., 1.],\n",
       "        [1., 1., 1., 1., 1.]]])"
      ]
     },
     "execution_count": 30,
     "metadata": {},
     "output_type": "execute_result"
    }
   ],
   "source": [
    "np.ones((3,4,5))"
   ]
  },
  {
   "cell_type": "code",
   "execution_count": 31,
   "id": "c7bcd458-f4d2-4c9c-8707-ad4fdeaae3d9",
   "metadata": {},
   "outputs": [
    {
     "data": {
      "text/plain": [
       "array([[[4, 4, 4, 4, 4],\n",
       "        [4, 4, 4, 4, 4],\n",
       "        [4, 4, 4, 4, 4],\n",
       "        [4, 4, 4, 4, 4]],\n",
       "\n",
       "       [[4, 4, 4, 4, 4],\n",
       "        [4, 4, 4, 4, 4],\n",
       "        [4, 4, 4, 4, 4],\n",
       "        [4, 4, 4, 4, 4]],\n",
       "\n",
       "       [[4, 4, 4, 4, 4],\n",
       "        [4, 4, 4, 4, 4],\n",
       "        [4, 4, 4, 4, 4],\n",
       "        [4, 4, 4, 4, 4]]])"
      ]
     },
     "execution_count": 31,
     "metadata": {},
     "output_type": "execute_result"
    }
   ],
   "source": [
    "np.full((3,4,5), 4)"
   ]
  },
  {
   "cell_type": "code",
   "execution_count": 33,
   "id": "26ddb7ad-8d98-4239-a7e1-8f76fc860ec6",
   "metadata": {},
   "outputs": [
    {
     "data": {
      "text/plain": [
       "array([[1., 0., 0., 0.],\n",
       "       [0., 1., 0., 0.],\n",
       "       [0., 0., 1., 0.],\n",
       "       [0., 0., 0., 1.]])"
      ]
     },
     "execution_count": 33,
     "metadata": {},
     "output_type": "execute_result"
    }
   ],
   "source": [
    "np.identity(4)"
   ]
  },
  {
   "cell_type": "code",
   "execution_count": 34,
   "id": "9b2b7053-0d06-4ba2-a049-65b4d297fab3",
   "metadata": {},
   "outputs": [
    {
     "data": {
      "text/plain": [
       "array([   4,   49,   94,  139,  184,  229,  274,  319,  364,  409,  454,\n",
       "        499,  544,  589,  634,  679,  724,  769,  814,  859,  904,  949,\n",
       "        994, 1039, 1084, 1129, 1174, 1219, 1264, 1309, 1354, 1399, 1444,\n",
       "       1489, 1534, 1579, 1624, 1669, 1714, 1759, 1804, 1849, 1894, 1939,\n",
       "       1984, 2029, 2074, 2119, 2164, 2209, 2254, 2299, 2344, 2389, 2434,\n",
       "       2479, 2524, 2569, 2614, 2659, 2704, 2749, 2794, 2839, 2884, 2929,\n",
       "       2974, 3019, 3064, 3109, 3154, 3199, 3244, 3289, 3334, 3379, 3424,\n",
       "       3469, 3514, 3559, 3604, 3649, 3694, 3739, 3784, 3829, 3874, 3919,\n",
       "       3964])"
      ]
     },
     "execution_count": 34,
     "metadata": {},
     "output_type": "execute_result"
    }
   ],
   "source": [
    "np.arange(4, 4000, 45)"
   ]
  },
  {
   "cell_type": "code",
   "execution_count": 36,
   "id": "d46005d5-24be-493d-8964-d47d953c5de8",
   "metadata": {},
   "outputs": [
    {
     "data": {
      "text/plain": [
       "array([  0.,  25.,  50.,  75., 100.])"
      ]
     },
     "execution_count": 36,
     "metadata": {},
     "output_type": "execute_result"
    }
   ],
   "source": [
    "#genera una secuencia de  5 valores equidistantes entre 0 y 100\n",
    "np.linspace(0, 100, 5)"
   ]
  },
  {
   "cell_type": "code",
   "execution_count": 37,
   "id": "0ce24429-7dcc-4681-999a-231f48222cc8",
   "metadata": {},
   "outputs": [
    {
     "data": {
      "text/plain": [
       "array([[0.47663965, 0.6456948 , 0.19145593, 0.40662655, 0.36239301],\n",
       "       [0.63158637, 0.69907579, 0.52762395, 0.02665038, 0.88148493],\n",
       "       [0.74454432, 0.67861862, 0.49927299, 0.97486529, 0.10354503],\n",
       "       [0.76060831, 0.91910243, 0.38423546, 0.61003492, 0.42395698]])"
      ]
     },
     "execution_count": 37,
     "metadata": {},
     "output_type": "execute_result"
    }
   ],
   "source": [
    "np.random.random((4,5)) "
   ]
  },
  {
   "cell_type": "code",
   "execution_count": null,
   "id": "12d68152-0d98-4a1b-b408-29288745dbfa",
   "metadata": {},
   "outputs": [],
   "source": []
  }
 ],
 "metadata": {
  "kernelspec": {
   "display_name": "Python 3",
   "language": "python",
   "name": "python3"
  },
  "language_info": {
   "codemirror_mode": {
    "name": "ipython",
    "version": 3
   },
   "file_extension": ".py",
   "mimetype": "text/x-python",
   "name": "python",
   "nbconvert_exporter": "python",
   "pygments_lexer": "ipython3",
   "version": "3.8.13"
  }
 },
 "nbformat": 4,
 "nbformat_minor": 5
}
