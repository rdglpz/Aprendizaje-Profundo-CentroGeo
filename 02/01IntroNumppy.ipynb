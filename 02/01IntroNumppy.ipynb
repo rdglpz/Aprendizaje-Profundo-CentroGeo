{
 "cells": [
  {
   "cell_type": "markdown",
   "id": "ad790699-cd07-468c-8207-e57a05d97800",
   "metadata": {},
   "source": [
    "# 2. Python para Cómputo Científico.\n",
    "Introducción a la librería NumPy\n",
    "\n",
    "* Es una librería fundamental para el cómputo numérico.\n",
    "* Incluye potentes funciones de algebra lineal, numeros pseudo aleatorios, cómputo matricial etc...\n",
    "* Es utilizado para cómputo científico"
   ]
  },
  {
   "cell_type": "code",
   "execution_count": null,
   "id": "76a07bc7-925e-4b57-a43b-577d6e3dc1af",
   "metadata": {},
   "outputs": [],
   "source": [
    "Para importar la librería numpy hacemos."
   ]
  },
  {
   "cell_type": "code",
   "execution_count": 4,
   "id": "edc77382-00ec-41b3-bd4b-3d61f3e3ae1e",
   "metadata": {},
   "outputs": [],
   "source": [
    "import numpy as np"
   ]
  },
  {
   "cell_type": "markdown",
   "id": "dbddcd4b-ce38-4a7e-bde6-a19996fa3d14",
   "metadata": {},
   "source": [
    "Una clase fundamental de Numpy es la clase ```array```"
   ]
  },
  {
   "cell_type": "code",
   "execution_count": 3,
   "id": "7f13713e-4198-4c2b-9426-fd6cabd7af3b",
   "metadata": {},
   "outputs": [
    {
     "ename": "NameError",
     "evalue": "name 'np' is not defined",
     "output_type": "error",
     "traceback": [
      "\u001b[0;31m---------------------------------------------------------------------------\u001b[0m",
      "\u001b[0;31mNameError\u001b[0m                                 Traceback (most recent call last)",
      "Input \u001b[0;32mIn [3]\u001b[0m, in \u001b[0;36m<cell line: 4>\u001b[0;34m()\u001b[0m\n\u001b[1;32m      1\u001b[0m \u001b[38;5;66;03m#crear un array\u001b[39;00m\n\u001b[1;32m      2\u001b[0m L \u001b[38;5;241m=\u001b[39m \u001b[38;5;28mrange\u001b[39m(\u001b[38;5;241m5\u001b[39m)\n\u001b[0;32m----> 4\u001b[0m \u001b[43mnp\u001b[49m\u001b[38;5;241m.\u001b[39marray(lista)\n",
      "\u001b[0;31mNameError\u001b[0m: name 'np' is not defined"
     ]
    }
   ],
   "source": [
    "#crear un array\n",
    "L = range(5)\n",
    "\n",
    "np.array(lista)"
   ]
  },
  {
   "cell_type": "code",
   "execution_count": null,
   "id": "cd35a7d5-b8b1-4e9a-92ed-9fd927b542f2",
   "metadata": {},
   "outputs": [],
   "source": []
  }
 ],
 "metadata": {
  "kernelspec": {
   "display_name": "Python 3",
   "language": "python",
   "name": "python3"
  },
  "language_info": {
   "codemirror_mode": {
    "name": "ipython",
    "version": 3
   },
   "file_extension": ".py",
   "mimetype": "text/x-python",
   "name": "python",
   "nbconvert_exporter": "python",
   "pygments_lexer": "ipython3",
   "version": "3.8.13"
  }
 },
 "nbformat": 4,
 "nbformat_minor": 5
}
