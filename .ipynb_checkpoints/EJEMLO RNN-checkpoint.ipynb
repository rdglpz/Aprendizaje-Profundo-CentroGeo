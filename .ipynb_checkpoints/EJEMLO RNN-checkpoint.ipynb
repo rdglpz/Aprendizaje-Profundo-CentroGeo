{
 "cells": [
  {
   "cell_type": "code",
   "execution_count": 11,
   "id": "1dc8c279-c2ea-4565-b444-c8c3cadfdd1f",
   "metadata": {},
   "outputs": [],
   "source": [
    "#!pip install sklearn"
   ]
  },
  {
   "cell_type": "code",
   "execution_count": 12,
   "id": "7a357fbb-af49-4ab7-8f6b-14850347172e",
   "metadata": {},
   "outputs": [
    {
     "data": {
      "text/plain": [
       "<module 'simple_rnn' from '/Users/rodrigo/Documents/SourcesCodes/GitHub/aprendizaje profundo centrogeo/simple_rnn.py'>"
      ]
     },
     "execution_count": 12,
     "metadata": {},
     "output_type": "execute_result"
    }
   ],
   "source": [
    "import numpy as np\n",
    "import matplotlib.pyplot as plt\n",
    "import math\n",
    "\n",
    "from sklearn.metrics import mean_squared_error\n",
    "\n",
    "import importlib\n",
    "import simple_rnn\n",
    "\n",
    " \n",
    "from simple_rnn import train, hidden_dim, seq_len, sigmoid, output_dim\n",
    "\n",
    "\n",
    "\n",
    "from simple_rnn import train, hidden_dim, seq_len, sigmoid, output_dim\n",
    "\n",
    "importlib.reload(simple_rnn)"
   ]
  },
  {
   "cell_type": "code",
   "execution_count": 13,
   "id": "87f5eb22-93c0-4ff6-8268-2c588a9342d3",
   "metadata": {},
   "outputs": [
    {
     "name": "stdout",
     "output_type": "stream",
     "text": [
      "(100, 50, 1)\n",
      "(100, 1)\n"
     ]
    }
   ],
   "source": [
    "sin_wave = np.array([math.sin(x) for x in range(200)])\n",
    "\n",
    "# training data\n",
    "\n",
    "X = []\n",
    "Y = []\n",
    "\n",
    "num_records = len(sin_wave) - seq_len # 50\n",
    " \n",
    "# X entries are 50 data points\n",
    "# Y entries are the 51st data point\n",
    "\n",
    "#Vector entrada X [-1,-0.5,0,0.5,1,0.5] [??]\n",
    "\n",
    "for i in range(num_records-50):\n",
    "    X.append(sin_wave[i:i+seq_len])\n",
    "    Y.append(sin_wave[i+seq_len])\n",
    "\n",
    "    \n",
    "X = np.expand_dims(np.array(X), axis=2) # 100 x 50 x 1\n",
    "Y = np.expand_dims(np.array(Y), axis=1) # 100 x 1\n",
    "print(X.shape)\n",
    "print(Y.shape)\n",
    "\n",
    "# validation data\n",
    "X_validation = []\n",
    "Y_validation = []\n",
    "for i in range(num_records-seq_len, num_records):\n",
    "    X_validation.append(sin_wave[i:i+seq_len])\n",
    "    Y_validation.append(sin_wave[i+seq_len])\n",
    "    \n",
    "X_validation = np.expand_dims(np.array(X_validation), axis=2)\n",
    "\n",
    "Y_validation = np.expand_dims(np.array(Y_validation), axis=1)\n"
   ]
  },
  {
   "cell_type": "code",
   "execution_count": 14,
   "id": "c8b2da0c-c520-48ab-bd1d-83b5d81407bf",
   "metadata": {},
   "outputs": [
    {
     "data": {
      "text/plain": [
       "(100, 50, 1)"
      ]
     },
     "execution_count": 14,
     "metadata": {},
     "output_type": "execute_result"
    }
   ],
   "source": [
    "X.shape"
   ]
  },
  {
   "cell_type": "code",
   "execution_count": 15,
   "id": "2d704eeb-241b-45ab-9339-994a30dca677",
   "metadata": {},
   "outputs": [
    {
     "data": {
      "text/plain": [
       "(100, 1)"
      ]
     },
     "execution_count": 15,
     "metadata": {},
     "output_type": "execute_result"
    }
   ],
   "source": [
    "Y.shape"
   ]
  },
  {
   "cell_type": "code",
   "execution_count": 16,
   "id": "ce14b490-885e-4fa4-9f96-9ebdb1efca5a",
   "metadata": {},
   "outputs": [
    {
     "name": "stdout",
     "output_type": "stream",
     "text": [
      "(100, 50)\n",
      "(100, 100)\n",
      "(1, 100)\n"
     ]
    }
   ],
   "source": [
    "#inicialización de las matrices de pesos\n",
    "\n",
    "np.random.seed(12161)\n",
    "U = np.random.uniform(0, 1, (hidden_dim, seq_len)) # weights from input to hidden layer\n",
    "print(U.shape)\n",
    "W = np.random.uniform(0, 1, (hidden_dim, hidden_dim)) # recurrent weights for layer (RNN weigts)\n",
    "print(W.shape)\n",
    "\n",
    "#print(\"h.shape \", activation.shape)\n",
    "\n",
    "V = np.random.uniform(0, 1, (output_dim, hidden_dim)) # weights from hidden to output layer\n",
    "print(V.shape)\n",
    "\n",
    "\n",
    "\n",
    "\n"
   ]
  },
  {
   "cell_type": "code",
   "execution_count": 17,
   "id": "8d076cba-fd32-458f-9325-8753c18c5fd2",
   "metadata": {},
   "outputs": [
    {
     "name": "stdout",
     "output_type": "stream",
     "text": [
      "(100, 50) x (50, 1)  =  (100, 1)\n"
     ]
    },
    {
     "ename": "NameError",
     "evalue": "name '_sum' is not defined",
     "output_type": "error",
     "traceback": [
      "\u001b[0;31m---------------------------------------------------------------------------\u001b[0m",
      "\u001b[0;31mNameError\u001b[0m                                 Traceback (most recent call last)",
      "Input \u001b[0;32mIn [17]\u001b[0m, in \u001b[0;36m<cell line: 19>\u001b[0;34m()\u001b[0m\n\u001b[1;32m     17\u001b[0m mulw \u001b[38;5;241m=\u001b[39m np\u001b[38;5;241m.\u001b[39mdot(W, prev_activation)\n\u001b[1;32m     18\u001b[0m \u001b[38;5;66;03m#_sum = mulu + mulw\u001b[39;00m\n\u001b[0;32m---> 19\u001b[0m \u001b[38;5;28mprint\u001b[39m(\u001b[43m_sum\u001b[49m\u001b[38;5;241m.\u001b[39mshape , \u001b[38;5;124m\"\u001b[39m\u001b[38;5;124msum\u001b[39m\u001b[38;5;124m\"\u001b[39m)\n\u001b[1;32m     21\u001b[0m \u001b[38;5;66;03m#eq 10.9\u001b[39;00m\n\u001b[1;32m     22\u001b[0m activation \u001b[38;5;241m=\u001b[39m sigmoid(_sum)\n",
      "\u001b[0;31mNameError\u001b[0m: name '_sum' is not defined"
     ]
    }
   ],
   "source": [
    "hidden_dim = 100\n",
    "\n",
    "#h^{0}\n",
    "prev_activation = np.zeros((hidden_dim, 1))\n",
    "\n",
    "x = X[0]\n",
    "\n",
    "timestep = 10\n",
    "\n",
    "new_input = np.zeros(x.shape)\n",
    "\n",
    "new_input[timestep] = x[timestep] # define a single input for that timestep\n",
    "\n",
    "print(U.shape , \"x\", new_input.shape, \" = \", np.dot(U,new_input).shape)\n",
    "\n",
    "\n",
    "mulw = np.dot(W, prev_activation)\n",
    "#_sum = mulu + mulw\n",
    "#print(_sum.shape , \"sum\")\n",
    "            \n",
    "#eq 10.9\n",
    "#activation = sigmoid(_sum)\n",
    "            \n",
    "#eq 10.10\n",
    "mulv = np.dot(V, activation)\n",
    "print(V.shape , \"x\", activation.shape, \" = \", mulv.shape)\n"
   ]
  },
  {
   "cell_type": "code",
   "execution_count": 18,
   "id": "7cc3803b-a2b3-4548-b4a7-2a039d66d2fc",
   "metadata": {},
   "outputs": [
    {
     "data": {
      "text/plain": [
       "array([[0.51943713, 0.39377852, 0.33445986, ..., 0.94047978, 0.13536373,\n",
       "        0.83134348],\n",
       "       [0.70951047, 0.32481439, 0.52442445, ..., 0.70151947, 0.8827805 ,\n",
       "        0.34415121],\n",
       "       [0.96402366, 0.8035712 , 0.86107335, ..., 0.76879634, 0.4102766 ,\n",
       "        0.15621609],\n",
       "       ...,\n",
       "       [0.58349375, 0.20023709, 0.63626362, ..., 0.0572619 , 0.48973874,\n",
       "        0.44282376],\n",
       "       [0.42959037, 0.51480157, 0.15393691, ..., 0.91547538, 0.43736747,\n",
       "        0.14448688],\n",
       "       [0.41387547, 0.85480505, 0.82842214, ..., 0.82905345, 0.75726233,\n",
       "        0.14182838]])"
      ]
     },
     "execution_count": 18,
     "metadata": {},
     "output_type": "execute_result"
    }
   ],
   "source": [
    "#Y.shape[0]\n",
    "U"
   ]
  },
  {
   "cell_type": "code",
   "execution_count": null,
   "id": "be555b35-4494-4fc6-9e4b-b0c3593682c1",
   "metadata": {},
   "outputs": [],
   "source": []
  },
  {
   "cell_type": "code",
   "execution_count": null,
   "id": "b4346cea-f12a-47ed-bd91-f1122cc05a25",
   "metadata": {},
   "outputs": [
    {
     "name": "stdout",
     "output_type": "stream",
     "text": [
      "Epoch: 1, Loss: 125967.55155852718, Validation Loss: 62981.80009873551\n",
      "Epoch: 2, Loss: 80779.38091801037, Validation Loss: 40388.10055253874\n",
      "Epoch: 3, Loss: 45591.21027738495, Validation Loss: 22794.401006287568\n",
      "Epoch: 4, Loss: 20403.038888946197, Validation Loss: 10200.701085393293\n",
      "Epoch: 5, Loss: 5215.830762967877, Validation Loss: 2607.4801936162294\n",
      "Epoch: 6, Loss: 73.24758974194985, Validation Loss: 36.52387222302899\n",
      "Epoch: 7, Loss: 21.67771826176328, Validation Loss: 10.810884970154964\n",
      "Epoch: 8, Loss: 20.84788103487053, Validation Loss: 10.39561893116071\n",
      "Epoch: 9, Loss: 21.07787896824739, Validation Loss: 10.506872060481\n",
      "Epoch: 10, Loss: 21.01768070350092, Validation Loss: 10.478509335437915\n",
      "Epoch: 11, Loss: 20.53186604930574, Validation Loss: 10.238540184560195\n",
      "Epoch: 12, Loss: 20.780482429279385, Validation Loss: 10.36105349726775\n",
      "Epoch: 13, Loss: 21.201257073303353, Validation Loss: 10.574473664219433\n",
      "Epoch: 14, Loss: 20.839282658140913, Validation Loss: 10.389852937778748\n",
      "Epoch: 15, Loss: 20.9030851979927, Validation Loss: 10.42205068864769\n",
      "Epoch: 16, Loss: 20.480456594462478, Validation Loss: 10.210852791741269\n",
      "Epoch: 17, Loss: 20.976429771352063, Validation Loss: 10.456050224807145\n",
      "Epoch: 18, Loss: 20.782639032291648, Validation Loss: 10.360869504948427\n"
     ]
    }
   ],
   "source": [
    "U, V, W = train(U, V, W, X, Y, X_validation, Y_validation)"
   ]
  },
  {
   "cell_type": "code",
   "execution_count": null,
   "id": "5a246fd8-c277-40ad-ad4a-8a98075e3b61",
   "metadata": {},
   "outputs": [],
   "source": [
    "plt.imshow(W)"
   ]
  },
  {
   "cell_type": "code",
   "execution_count": 80,
   "id": "a0db6ad0-7091-402a-86b6-0f5932f43510",
   "metadata": {},
   "outputs": [
    {
     "data": {
      "image/png": "[encoded data removed]",
      "text/plain": [
       "<Figure size 432x288 with 1 Axes>"
      ]
     },
     "metadata": {
      "needs_background": "light"
     },
     "output_type": "display_data"
    }
   ],
   "source": [
    "# predictions on the training set\n",
    "predictions = []\n",
    "for i in range(Y.shape[0]):\n",
    "    x, y = X[i], Y[i]\n",
    "    prev_activation = np.zeros((hidden_dim,1))\n",
    "    # forward pass\n",
    "    for timestep in range(seq_len):\n",
    "        mulu = np.dot(U, x)\n",
    "        mulw = np.dot(W, prev_activation)\n",
    "        _sum = mulu + mulw\n",
    "        activation = sigmoid(_sum)\n",
    "        mulv = np.dot(V, activation)\n",
    "        prev_activation = activation\n",
    "    predictions.append(mulv)\n",
    " \n",
    "predictions = np.array(predictions)\n",
    " \n",
    "plt.plot(predictions[:, 0,0], 'g')\n",
    "plt.plot(Y[:, 0], 'r')\n",
    "plt.title(\"Training Data Predictions in Green, Actual in Red\")\n",
    "plt.show()"
   ]
  },
  {
   "cell_type": "code",
   "execution_count": 81,
   "id": "f242ebc1-8593-470e-b968-ed5e6200648c",
   "metadata": {},
   "outputs": [],
   "source": [
    "#https://pythonalgos.com/build-a-recurrent-neural-network-from-scratch-in-python-3/#introduction-to-recurrent-neural-networks\n",
    "\n",
    "#https://towardsdatascience.com/backpropagation-in-rnn-explained-bdf853b4e1c2#:~:text=You%20see%2C%20a%20RNN%20essentially,where%20they%20are%20summed%20up.\n",
    "#https://pythonalgos.com/build-a-recurrent-neural-network-from-scratch-in-python-3/#introduction-to-recurrent-neural-networks\n",
    "\n",
    "#no tan buena introducción\n",
    "\n",
    "#https://machinelearningmastery.com/gentle-introduction-backpropagation-time/"
   ]
  },
  {
   "cell_type": "code",
   "execution_count": 82,
   "id": "2358cb77-e819-41b4-b66c-69f335ed5d67",
   "metadata": {},
   "outputs": [
    {
     "data": {
      "text/plain": [
       "array([[ 0.,  1.,  2., ..., 97., 98., 99.],\n",
       "       [ 0.,  1.,  2., ..., 97., 98., 99.],\n",
       "       [ 0.,  1.,  2., ..., 97., 98., 99.],\n",
       "       ...,\n",
       "       [ 0.,  1.,  2., ..., 97., 98., 99.],\n",
       "       [ 0.,  1.,  2., ..., 97., 98., 99.],\n",
       "       [ 0.,  1.,  2., ..., 97., 98., 99.]])"
      ]
     },
     "execution_count": 82,
     "metadata": {},
     "output_type": "execute_result"
    }
   ],
   "source": [
    "np.arange(100)*np.ones_like(W)"
   ]
  },
  {
   "cell_type": "code",
   "execution_count": null,
   "id": "84d2fc93-005e-4030-a9d4-a0ac909728ac",
   "metadata": {},
   "outputs": [],
   "source": []
  },
  {
   "cell_type": "code",
   "execution_count": null,
   "id": "824155ba-2455-47c6-9568-3a0503414508",
   "metadata": {},
   "outputs": [],
   "source": []
  }
 ],
 "metadata": {
  "kernelspec": {
   "display_name": "Python 3 (ipykernel)",
   "language": "python",
   "name": "python3"
  },
  "language_info": {
   "codemirror_mode": {
    "name": "ipython",
    "version": 3
   },
   "file_extension": ".py",
   "mimetype": "text/x-python",
   "name": "python",
   "nbconvert_exporter": "python",
   "pygments_lexer": "ipython3",
   "version": "3.8.13"
  }
 },
 "nbformat": 4,
 "nbformat_minor": 5
}
