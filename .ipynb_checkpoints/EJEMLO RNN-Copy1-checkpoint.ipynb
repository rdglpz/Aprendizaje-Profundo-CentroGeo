{
 "cells": [
  {
   "cell_type": "code",
   "execution_count": 1,
   "id": "1dc8c279-c2ea-4565-b444-c8c3cadfdd1f",
   "metadata": {},
   "outputs": [],
   "source": [
    "#!pip install sklearn"
   ]
  },
  {
   "cell_type": "code",
   "execution_count": 2,
   "id": "7a357fbb-af49-4ab7-8f6b-14850347172e",
   "metadata": {},
   "outputs": [],
   "source": [
    "import numpy as np\n",
    "import matplotlib.pyplot as plt\n",
    "import math\n",
    "\n",
    "from sklearn.metrics import mean_squared_error\n",
    " \n",
    "from simple_rnn import train, hidden_dim, seq_len, sigmoid, output_dim"
   ]
  },
  {
   "cell_type": "code",
   "execution_count": 3,
   "id": "87f5eb22-93c0-4ff6-8268-2c588a9342d3",
   "metadata": {},
   "outputs": [
    {
     "name": "stdout",
     "output_type": "stream",
     "text": [
      "(100, 50, 1)\n",
      "(100, 1)\n"
     ]
    }
   ],
   "source": [
    "sin_wave = np.array([math.sin(x) for x in range(200)])\n",
    "\n",
    "# training data\n",
    "\n",
    "X = []\n",
    "Y = []\n",
    "\n",
    "num_records = len(sin_wave) - seq_len # 50\n",
    " \n",
    "# X entries are 50 data points\n",
    "# Y entries are the 51st data point\n",
    "\n",
    "#Vector entrada X [-1,-0.5,0,0.5,1,0.5] [??]\n",
    "\n",
    "for i in range(num_records-50):\n",
    "    X.append(sin_wave[i:i+seq_len])\n",
    "    Y.append(sin_wave[i+seq_len])\n",
    "\n",
    "    \n",
    "X = np.expand_dims(np.array(X), axis=2) # 100 x 50 x 1\n",
    "Y = np.expand_dims(np.array(Y), axis=1) # 100 x 1\n",
    "print(X.shape)\n",
    "print(Y.shape)\n",
    "\n",
    "# validation data\n",
    "X_validation = []\n",
    "Y_validation = []\n",
    "for i in range(num_records-seq_len, num_records):\n",
    "    X_validation.append(sin_wave[i:i+seq_len])\n",
    "    Y_validation.append(sin_wave[i+seq_len])\n",
    "    \n",
    "X_validation = np.expand_dims(np.array(X_validation), axis=2)\n",
    "\n",
    "Y_validation = np.expand_dims(np.array(Y_validation), axis=1)\n"
   ]
  },
  {
   "cell_type": "code",
   "execution_count": 4,
   "id": "c8b2da0c-c520-48ab-bd1d-83b5d81407bf",
   "metadata": {},
   "outputs": [
    {
     "data": {
      "text/plain": [
       "(100, 50, 1)"
      ]
     },
     "execution_count": 4,
     "metadata": {},
     "output_type": "execute_result"
    }
   ],
   "source": [
    "X.shape"
   ]
  },
  {
   "cell_type": "code",
   "execution_count": 5,
   "id": "2d704eeb-241b-45ab-9339-994a30dca677",
   "metadata": {},
   "outputs": [
    {
     "data": {
      "text/plain": [
       "(100, 1)"
      ]
     },
     "execution_count": 5,
     "metadata": {},
     "output_type": "execute_result"
    }
   ],
   "source": [
    "Y.shape"
   ]
  },
  {
   "cell_type": "code",
   "execution_count": 6,
   "id": "ce14b490-885e-4fa4-9f96-9ebdb1efca5a",
   "metadata": {},
   "outputs": [
    {
     "name": "stdout",
     "output_type": "stream",
     "text": [
      "(100, 50)\n",
      "(100, 100)\n",
      "(1, 100)\n"
     ]
    }
   ],
   "source": [
    "#inicialización de las matrices de pesos\n",
    "\n",
    "np.random.seed(12161)\n",
    "U = np.random.uniform(0, 1, (hidden_dim, seq_len)) # weights from input to hidden layer\n",
    "print(U.shape)\n",
    "W = np.random.uniform(0, 1, (hidden_dim, hidden_dim)) # recurrent weights for layer (RNN weigts)\n",
    "print(W.shape)\n",
    "\n",
    "#print(\"h.shape \", activation.shape)\n",
    "\n",
    "V = np.random.uniform(0, 1, (output_dim, hidden_dim)) # weights from hidden to output layer\n",
    "print(V.shape)\n",
    "\n",
    "\n",
    "\n",
    "\n"
   ]
  },
  {
   "cell_type": "code",
   "execution_count": 7,
   "id": "8d076cba-fd32-458f-9325-8753c18c5fd2",
   "metadata": {},
   "outputs": [
    {
     "name": "stdout",
     "output_type": "stream",
     "text": [
      "(100, 50) x (50, 1)  =  (100, 1)\n"
     ]
    },
    {
     "ename": "NameError",
     "evalue": "name '_sum' is not defined",
     "output_type": "error",
     "traceback": [
      "\u001b[0;31m---------------------------------------------------------------------------\u001b[0m",
      "\u001b[0;31mNameError\u001b[0m                                 Traceback (most recent call last)",
      "Input \u001b[0;32mIn [7]\u001b[0m, in \u001b[0;36m<cell line: 19>\u001b[0;34m()\u001b[0m\n\u001b[1;32m     17\u001b[0m mulw \u001b[38;5;241m=\u001b[39m np\u001b[38;5;241m.\u001b[39mdot(W, prev_activation)\n\u001b[1;32m     18\u001b[0m \u001b[38;5;66;03m#_sum = mulu + mulw\u001b[39;00m\n\u001b[0;32m---> 19\u001b[0m \u001b[38;5;28mprint\u001b[39m(\u001b[43m_sum\u001b[49m\u001b[38;5;241m.\u001b[39mshape , \u001b[38;5;124m\"\u001b[39m\u001b[38;5;124msum\u001b[39m\u001b[38;5;124m\"\u001b[39m)\n\u001b[1;32m     21\u001b[0m \u001b[38;5;66;03m#eq 10.9\u001b[39;00m\n\u001b[1;32m     22\u001b[0m activation \u001b[38;5;241m=\u001b[39m sigmoid(_sum)\n",
      "\u001b[0;31mNameError\u001b[0m: name '_sum' is not defined"
     ]
    }
   ],
   "source": [
    "hidden_dim = 100\n",
    "\n",
    "#h^{0}\n",
    "prev_activation = np.zeros((hidden_dim, 1))\n",
    "\n",
    "x = X[0]\n",
    "\n",
    "timestep = 10\n",
    "\n",
    "new_input = np.zeros(x.shape)\n",
    "\n",
    "new_input[timestep] = x[timestep] # define a single input for that timestep\n",
    "\n",
    "print(U.shape , \"x\", new_input.shape, \" = \", np.dot(U,new_input).shape)\n",
    "\n",
    "\n",
    "mulw = np.dot(W, prev_activation)\n",
    "#_sum = mulu + mulw\n",
    "print(_sum.shape , \"sum\")\n",
    "            \n",
    "#eq 10.9\n",
    "activation = sigmoid(_sum)\n",
    "            \n",
    "#eq 10.10\n",
    "mulv = np.dot(V, activation)\n",
    "print(V.shape , \"x\", activation.shape, \" = \", mulv.shape)\n"
   ]
  },
  {
   "cell_type": "code",
   "execution_count": 8,
   "id": "7cc3803b-a2b3-4548-b4a7-2a039d66d2fc",
   "metadata": {},
   "outputs": [
    {
     "data": {
      "text/plain": [
       "100"
      ]
     },
     "execution_count": 8,
     "metadata": {},
     "output_type": "execute_result"
    }
   ],
   "source": [
    "Y.shape[0]"
   ]
  },
  {
   "cell_type": "code",
   "execution_count": 9,
   "id": "b4346cea-f12a-47ed-bd91-f1122cc05a25",
   "metadata": {},
   "outputs": [
    {
     "name": "stdout",
     "output_type": "stream",
     "text": [
      "Epoch: 1, Costo Entrenamiento: 125967.55155852718, Costo Validación: 62981.80009873551\n"
     ]
    },
    {
     "name": "stderr",
     "output_type": "stream",
     "text": [
      "/Users/rodrigo/Documents/SourcesCodes/GitHub/aprendizaje profundo centrogeo/simple_rnn.py:154: RuntimeWarning: overflow encountered in multiply\n",
      "  d_a = a * (1 - a) * ds\n",
      "/Users/rodrigo/Documents/SourcesCodes/GitHub/aprendizaje profundo centrogeo/simple_rnn.py:16: RuntimeWarning: overflow encountered in exp\n",
      "  return 1/(1+np.exp(-x))\n"
     ]
    },
    {
     "name": "stdout",
     "output_type": "stream",
     "text": [
      "Epoch: 2, Costo Entrenamiento: 153510.2115628537, Costo Validación: 76752.92885206162\n",
      "Epoch: 3, Costo Entrenamiento: 183774.39667152843, Costo Validación: 91884.82015709793\n",
      "Epoch: 4, Costo Entrenamiento: 216760.1262409844, Costo Validación: 108377.48369205788\n",
      "Epoch: 5, Costo Entrenamiento: 252467.41979768896, Costo Validación: 126230.92922017189\n",
      "Epoch: 6, Costo Entrenamiento: 290896.29704810074, Costo Validación: 145445.1665946661\n",
      "Epoch: 7, Costo Entrenamiento: 332046.7778820432, Costo Validación: 166020.20576044914\n",
      "Epoch: 8, Costo Entrenamiento: 375918.88237893325, Costo Validación: 187956.05675722603\n",
      "Epoch: 9, Costo Entrenamiento: 422512.6308139599, Costo Validación: 211252.72972258783\n",
      "Epoch: 10, Costo Entrenamiento: 471828.0436582966, Costo Validación: 235910.23489211802\n",
      "Epoch: 11, Costo Entrenamiento: 523865.1415865306, Costo Validación: 261928.58260310645\n",
      "Epoch: 12, Costo Entrenamiento: 578623.9454718978, Costo Validación: 289307.7832921679\n",
      "Epoch: 13, Costo Entrenamiento: 636104.4763886281, Costo Validación: 318047.84749641357\n",
      "Epoch: 14, Costo Entrenamiento: 696306.7556192081, Costo Validación: 348148.78585708304\n",
      "Epoch: 15, Costo Entrenamiento: 759230.8046588403, Costo Validación: 379610.60912177427\n",
      "Epoch: 16, Costo Entrenamiento: 824876.6452195173, Costo Validación: 412433.3281464793\n",
      "Epoch: 17, Costo Entrenamiento: 893244.2992351347, Costo Validación: 446616.9538981424\n",
      "Epoch: 18, Costo Entrenamiento: 964333.788858336, Costo Validación: 482161.49745308195\n",
      "Epoch: 19, Costo Entrenamiento: 1038145.1364539114, Costo Validación: 519066.9699936878\n",
      "Epoch: 20, Costo Entrenamiento: 1114678.3646006114, Costo Validación: 557333.3828093334\n",
      "Epoch: 21, Costo Entrenamiento: 1193933.4961040355, Costo Validación: 596960.7473028126\n",
      "Epoch: 22, Costo Entrenamiento: 1275910.5540051523, Costo Validación: 637949.0749946068\n",
      "Epoch: 23, Costo Entrenamiento: 1360609.561588569, Costo Validación: 680298.3775270162\n",
      "Epoch: 24, Costo Entrenamiento: 1448030.5423846964, Costo Validación: 724008.6666652408\n",
      "Epoch: 25, Costo Entrenamiento: 1538173.5201835486, Costo Validación: 769079.9543042838\n"
     ]
    }
   ],
   "source": [
    "U, V, W = train(U, V, W, X, Y, X_validation, Y_validation)"
   ]
  },
  {
   "cell_type": "code",
   "execution_count": 10,
   "id": "a0db6ad0-7091-402a-86b6-0f5932f43510",
   "metadata": {},
   "outputs": [
    {
     "data": {
      "image/png": "[encoded data removed]",
      "text/plain": [
       "<Figure size 432x288 with 1 Axes>"
      ]
     },
     "metadata": {
      "needs_background": "light"
     },
     "output_type": "display_data"
    }
   ],
   "source": [
    "# predictions on the training set\n",
    "predictions = []\n",
    "for i in range(Y.shape[0]):\n",
    "    x, y = X[i], Y[i]\n",
    "    prev_activation = np.zeros((hidden_dim,1))\n",
    "    # forward pass\n",
    "    for timestep in range(seq_len):\n",
    "        mulu = np.dot(U, x)\n",
    "        mulw = np.dot(W, prev_activation)\n",
    "        _sum = mulu + mulw\n",
    "        activation = sigmoid(_sum)\n",
    "        mulv = np.dot(V, activation)\n",
    "        prev_activation = activation\n",
    "    predictions.append(mulv)\n",
    " \n",
    "predictions = np.array(predictions)\n",
    " \n",
    "plt.plot(predictions[:, 0,0], 'g')\n",
    "plt.plot(Y[:, 0], 'r')\n",
    "plt.title(\"Training Data Predictions in Green, Actual in Red\")\n",
    "plt.show()"
   ]
  },
  {
   "cell_type": "code",
   "execution_count": null,
   "id": "f242ebc1-8593-470e-b968-ed5e6200648c",
   "metadata": {},
   "outputs": [],
   "source": [
    "#https://pythonalgos.com/build-a-recurrent-neural-network-from-scratch-in-python-3/#introduction-to-recurrent-neural-networks\n",
    "\n",
    "#https://towardsdatascience.com/backpropagation-in-rnn-explained-bdf853b4e1c2#:~:text=You%20see%2C%20a%20RNN%20essentially,where%20they%20are%20summed%20up.\n",
    "#https://pythonalgos.com/build-a-recurrent-neural-network-from-scratch-in-python-3/#introduction-to-recurrent-neural-networks\n",
    "\n",
    "#no tan buena introducción\n",
    "\n",
    "#https://machinelearningmastery.com/gentle-introduction-backpropagation-time/"
   ]
  },
  {
   "cell_type": "code",
   "execution_count": 59,
   "id": "2358cb77-e819-41b4-b66c-69f335ed5d67",
   "metadata": {},
   "outputs": [
    {
     "data": {
      "text/plain": [
       "array([[ 0.,  1.,  2., ..., 97., 98., 99.],\n",
       "       [ 0.,  1.,  2., ..., 97., 98., 99.],\n",
       "       [ 0.,  1.,  2., ..., 97., 98., 99.],\n",
       "       ...,\n",
       "       [ 0.,  1.,  2., ..., 97., 98., 99.],\n",
       "       [ 0.,  1.,  2., ..., 97., 98., 99.],\n",
       "       [ 0.,  1.,  2., ..., 97., 98., 99.]])"
      ]
     },
     "execution_count": 59,
     "metadata": {},
     "output_type": "execute_result"
    }
   ],
   "source": [
    "np.arange(100)*np.ones_like(W)"
   ]
  },
  {
   "cell_type": "code",
   "execution_count": 56,
   "id": "84d2fc93-005e-4030-a9d4-a0ac909728ac",
   "metadata": {},
   "outputs": [
    {
     "data": {
      "text/plain": [
       "array([ 0,  1,  2,  3,  4,  5,  6,  7,  8,  9, 10, 11, 12, 13, 14, 15, 16,\n",
       "       17, 18, 19, 20, 21, 22, 23, 24, 25, 26, 27, 28, 29, 30, 31, 32, 33,\n",
       "       34, 35, 36, 37, 38, 39, 40, 41, 42, 43, 44, 45, 46, 47, 48, 49, 50,\n",
       "       51, 52, 53, 54, 55, 56, 57, 58, 59, 60, 61, 62, 63, 64, 65, 66, 67,\n",
       "       68, 69, 70, 71, 72, 73, 74, 75, 76, 77, 78, 79, 80, 81, 82, 83, 84,\n",
       "       85, 86, 87, 88, 89, 90, 91, 92, 93, 94, 95, 96, 97, 98, 99])"
      ]
     },
     "execution_count": 56,
     "metadata": {},
     "output_type": "execute_result"
    }
   ],
   "source": []
  },
  {
   "cell_type": "code",
   "execution_count": null,
   "id": "824155ba-2455-47c6-9568-3a0503414508",
   "metadata": {},
   "outputs": [],
   "source": []
  }
 ],
 "metadata": {
  "kernelspec": {
   "display_name": "Python 3 (ipykernel)",
   "language": "python",
   "name": "python3"
  },
  "language_info": {
   "codemirror_mode": {
    "name": "ipython",
    "version": 3
   },
   "file_extension": ".py",
   "mimetype": "text/x-python",
   "name": "python",
   "nbconvert_exporter": "python",
   "pygments_lexer": "ipython3",
   "version": "3.8.13"
  }
 },
 "nbformat": 4,
 "nbformat_minor": 5
}
